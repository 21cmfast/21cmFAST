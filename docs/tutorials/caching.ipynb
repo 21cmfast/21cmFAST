{
 "cells": [
  {
   "cell_type": "markdown",
   "id": "f4273c8e",
   "metadata": {
    "papermill": {
     "duration": 0.003689,
     "end_time": "2023-12-28T10:56:56.409463",
     "exception": false,
     "start_time": "2023-12-28T10:56:56.405774",
     "status": "completed"
    },
    "tags": []
   },
   "source": [
    "# Accessing evolutionary Coeval data"
   ]
  },
  {
   "cell_type": "markdown",
   "id": "37cece10",
   "metadata": {
    "papermill": {
     "duration": 0.003545,
     "end_time": "2023-12-28T10:56:56.416646",
     "exception": false,
     "start_time": "2023-12-28T10:56:56.413101",
     "status": "completed"
    },
    "tags": []
   },
   "source": [
    "When you run `run_coeval` with non-saturated spin temperature fluctuations (or various other options, such as inhomogeneous recombinations), *or* you run `run_lightcone`, many coeval simulation cubes at higher redshifts are computed, to generate the evolution up to the redshift you requested (or in the case of lightcones, to be interpolated over). By default, with `write=True`, all these boxes are saved to the cache (or a folder of your choice). What is the best way to access that data?\n",
    "\n",
    "Looking at the output datafiles themselves (a bunch of `.h5` files) is fairly confusing -- the files are saved with names based on inscrutable hashes. You can use the builtin command-line functionality `21cmfast query` to identify what's what, but that can be a bit clunky. You could also just run `run_coeval` at the redshift you care about, with the same input parameters -- this will just return the cached object. But this is also a bit clunky, and requires you to know the redshifts that were calculated during the evolution.\n",
    "\n",
    "Never fear though -- both the `Coeval` and `LightCone` objects have a `get_cached_data()` method that will find these files for you! Let's see how it works."
   ]
  },
  {
   "cell_type": "code",
   "execution_count": null,
   "id": "d5560e99",
   "metadata": {
    "ExecuteTime": {
     "end_time": "2020-02-29T22:10:11.054977Z",
     "start_time": "2020-02-29T22:10:10.248058Z"
    },
    "execution": {
     "iopub.execute_input": "2023-12-28T10:56:56.424837Z",
     "iopub.status.busy": "2023-12-28T10:56:56.424501Z",
     "iopub.status.idle": "2023-12-28T10:56:57.461680Z",
     "shell.execute_reply": "2023-12-28T10:56:57.461170Z"
    },
    "papermill": {
     "duration": 1.043591,
     "end_time": "2023-12-28T10:56:57.463259",
     "exception": false,
     "start_time": "2023-12-28T10:56:56.419668",
     "status": "completed"
    },
    "tags": []
   },
   "outputs": [],
   "source": [
    "%matplotlib inline\n",
    "import os\n",
    "\n",
    "import h5py\n",
    "import matplotlib.pyplot as plt\n",
    "import numpy as np\n",
    "\n",
    "import py21cmfast as p21c\n",
    "from tempfile import mkdtemp\n",
    "\n",
    "# For plotting the cubes, we use the plotting submodule:\n",
    "# For interacting with the cache\n",
    "from py21cmfast import plotting"
   ]
  },
  {
   "cell_type": "markdown",
   "id": "835b8eb1",
   "metadata": {
    "papermill": {
     "duration": 0.005969,
     "end_time": "2023-12-28T10:56:57.522457",
     "exception": false,
     "start_time": "2023-12-28T10:56:57.516488",
     "status": "completed"
    },
    "tags": []
   },
   "source": [
    "We're going to make a temporary cache, so that this notebook produces the same output every time. \n",
    "\n",
    "If you want to hold on to each computed OutputStruct, you can specify your own folder in `OutputCache` and read/copy/write/delete the files as needed:"
   ]
  },
  {
   "cell_type": "code",
   "execution_count": null,
   "id": "48d2c6d9",
   "metadata": {
    "ExecuteTime": {
     "end_time": "2020-02-29T22:10:11.367976Z",
     "start_time": "2020-02-29T22:10:11.062517Z"
    },
    "execution": {
     "iopub.execute_input": "2023-12-28T10:56:57.536616Z",
     "iopub.status.busy": "2023-12-28T10:56:57.536209Z",
     "iopub.status.idle": "2023-12-28T10:56:57.762604Z",
     "shell.execute_reply": "2023-12-28T10:56:57.761892Z"
    },
    "papermill": {
     "duration": 0.235508,
     "end_time": "2023-12-28T10:56:57.764316",
     "exception": false,
     "start_time": "2023-12-28T10:56:57.528808",
     "status": "completed"
    },
    "tags": []
   },
   "outputs": [],
   "source": [
    "cache = p21c.OutputCache(mkdtemp())"
   ]
  },
  {
   "cell_type": "markdown",
   "id": "dca25bfe",
   "metadata": {},
   "source": [
    "To control which outputs are cached, one can pass a `CacheConfig` object to the `write` arguments of the lightcone and coeval functions."
   ]
  },
  {
   "cell_type": "code",
   "execution_count": null,
   "id": "895d5d58",
   "metadata": {},
   "outputs": [],
   "source": [
    "cacheconfig = p21c.CacheConfig.on()\n",
    "cacheconfig"
   ]
  },
  {
   "cell_type": "markdown",
   "id": "857387c9",
   "metadata": {},
   "source": [
    "Passing `True` or `False` to the `write` argument turns caching for all objects on and off respectively"
   ]
  },
  {
   "cell_type": "markdown",
   "id": "eb99ec62",
   "metadata": {
    "papermill": {
     "duration": 0.003407,
     "end_time": "2023-12-28T10:56:57.771250",
     "exception": false,
     "start_time": "2023-12-28T10:56:57.767843",
     "status": "completed"
    },
    "tags": []
   },
   "source": [
    "## Create an example box"
   ]
  },
  {
   "cell_type": "markdown",
   "id": "a7e79a05",
   "metadata": {
    "papermill": {
     "duration": 0.07619,
     "end_time": "2023-12-28T10:56:57.850581",
     "exception": false,
     "start_time": "2023-12-28T10:56:57.774391",
     "status": "completed"
    },
    "tags": []
   },
   "source": [
    "We first run a coeval box to have something to read later:"
   ]
  },
  {
   "cell_type": "code",
   "execution_count": null,
   "id": "6f3fe3ce",
   "metadata": {
    "ExecuteTime": {
     "end_time": "2020-02-29T22:10:27.413255Z",
     "start_time": "2020-02-29T22:10:11.369635Z"
    },
    "execution": {
     "iopub.execute_input": "2023-12-28T10:56:57.859357Z",
     "iopub.status.busy": "2023-12-28T10:56:57.859028Z",
     "iopub.status.idle": "2023-12-28T10:57:42.593928Z",
     "shell.execute_reply": "2023-12-28T10:57:42.593298Z"
    },
    "papermill": {
     "duration": 44.741332,
     "end_time": "2023-12-28T10:57:42.595499",
     "exception": false,
     "start_time": "2023-12-28T10:56:57.854167",
     "status": "completed"
    },
    "tags": []
   },
   "outputs": [],
   "source": [
    "inputs = p21c.InputParameters.from_template(\n",
    "    'simple',\n",
    "    random_seed=1234,\n",
    "    node_redshifts=(6,7,8,9,10,11,12,13,14,15,16,17,18,19,20),\n",
    ").evolve_input_structs(DIM=300,BOX_LEN=100,HII_DIM=100)\n",
    "\n",
    "coevals = p21c.run_coeval(\n",
    "    out_redshifts=(6,16),\n",
    "    inputs=inputs,\n",
    "    write=cacheconfig,\n",
    "    cache=cache,\n",
    ")"
   ]
  },
  {
   "cell_type": "markdown",
   "id": "398ecd06",
   "metadata": {
    "papermill": {
     "duration": 0.010434,
     "end_time": "2023-12-28T10:57:42.609764",
     "exception": false,
     "start_time": "2023-12-28T10:57:42.599330",
     "status": "completed"
    },
    "tags": []
   },
   "source": [
    "## Accessing cached data from `Coeval`"
   ]
  },
  {
   "cell_type": "markdown",
   "id": "ccd6621d",
   "metadata": {
    "papermill": {
     "duration": 0.003737,
     "end_time": "2023-12-28T10:57:42.617347",
     "exception": false,
     "start_time": "2023-12-28T10:57:42.613610",
     "status": "completed"
    },
    "tags": []
   },
   "source": [
    "If you have the exact object you want to load, you can simply pass it in to the `find_existing` method of the OutputCache to get the path, then read it using our hdf5 submodule"
   ]
  },
  {
   "cell_type": "code",
   "execution_count": null,
   "id": "d5075357",
   "metadata": {
    "execution": {
     "iopub.execute_input": "2023-12-28T10:57:42.626676Z",
     "iopub.status.busy": "2023-12-28T10:57:42.625869Z",
     "iopub.status.idle": "2023-12-28T10:57:42.635848Z",
     "shell.execute_reply": "2023-12-28T10:57:42.635187Z"
    },
    "papermill": {
     "duration": 0.01601,
     "end_time": "2023-12-28T10:57:42.636988",
     "exception": false,
     "start_time": "2023-12-28T10:57:42.620978",
     "status": "completed"
    },
    "tags": []
   },
   "outputs": [],
   "source": [
    "brightness_temp_z16 = p21c.BrightnessTemp.new(redshift=inputs.node_redshifts[10],inputs=inputs)\n",
    "path = cache.find_existing(brightness_temp_z16)\n",
    "brightness_temp_z16 = p21c.io.h5.read_output_struct(path)"
   ]
  },
  {
   "cell_type": "markdown",
   "id": "c0df9439",
   "metadata": {
    "papermill": {
     "duration": 0.004361,
     "end_time": "2023-12-28T10:57:42.645325",
     "exception": false,
     "start_time": "2023-12-28T10:57:42.640964",
     "status": "completed"
    },
    "tags": []
   },
   "source": [
    "The output is an `OutputStruct` of whatever kind you requested:"
   ]
  },
  {
   "cell_type": "code",
   "execution_count": null,
   "id": "e82193c9",
   "metadata": {
    "execution": {
     "iopub.execute_input": "2023-12-28T10:57:42.654929Z",
     "iopub.status.busy": "2023-12-28T10:57:42.654065Z",
     "iopub.status.idle": "2023-12-28T10:57:42.658426Z",
     "shell.execute_reply": "2023-12-28T10:57:42.657726Z"
    },
    "papermill": {
     "duration": 0.010339,
     "end_time": "2023-12-28T10:57:42.659631",
     "exception": false,
     "start_time": "2023-12-28T10:57:42.649292",
     "status": "completed"
    },
    "tags": []
   },
   "outputs": [],
   "source": [
    "brightness_temp_z16"
   ]
  },
  {
   "cell_type": "markdown",
   "id": "a62fedea",
   "metadata": {},
   "source": [
    "You can also Construct a `RunCache` instance, which contains the filenames of every box needed for the run, and find it there"
   ]
  },
  {
   "cell_type": "code",
   "execution_count": null,
   "id": "5e1ef257",
   "metadata": {},
   "outputs": [],
   "source": [
    "runcache = p21c.RunCache.from_inputs(cache=cache,inputs=inputs)\n",
    "brightness_temp_z16 = runcache.get_output_struct_at_z(\n",
    "        kind=\"BrightnessTemp\",\n",
    "        z=16.0,\n",
    "        match_z_within=0.01,\n",
    ")"
   ]
  },
  {
   "cell_type": "markdown",
   "id": "ba08d4f4",
   "metadata": {},
   "source": [
    "To list all objects currently stored in your cache, use `list_datasets()` with filters for output type, input parameters, redshift and seed. Pass None for each filter to output everything"
   ]
  },
  {
   "cell_type": "code",
   "execution_count": null,
   "id": "21a1c683",
   "metadata": {},
   "outputs": [],
   "source": [
    "cache.list_datasets(\n",
    "    kind=None,\n",
    "    inputs=None,\n",
    "    redshift=None,\n",
    "    all_seeds=True,\n",
    ")"
   ]
  },
  {
   "cell_type": "markdown",
   "id": "f76d815c",
   "metadata": {},
   "source": [
    "Note that the directory structure in the cache is split up into several hashes which represent various parts of the input structure and redshift. This ensures we don't re-calculate the same boxes twice unless we explicitly pass `regenerate=True` to our functions"
   ]
  },
  {
   "cell_type": "markdown",
   "id": "c790bcda",
   "metadata": {
    "papermill": {
     "duration": 0.003781,
     "end_time": "2023-12-28T10:57:42.667178",
     "exception": false,
     "start_time": "2023-12-28T10:57:42.663397",
     "status": "completed"
    },
    "tags": []
   },
   "source": [
    "We can proceed to plot the brightness temperature that we read from cache"
   ]
  },
  {
   "cell_type": "code",
   "execution_count": null,
   "id": "ff032bb6",
   "metadata": {
    "execution": {
     "iopub.execute_input": "2023-12-28T10:57:42.676456Z",
     "iopub.status.busy": "2023-12-28T10:57:42.675503Z",
     "iopub.status.idle": "2023-12-28T10:57:42.971810Z",
     "shell.execute_reply": "2023-12-28T10:57:42.971114Z"
    },
    "papermill": {
     "duration": 0.302138,
     "end_time": "2023-12-28T10:57:42.972966",
     "exception": false,
     "start_time": "2023-12-28T10:57:42.670828",
     "status": "completed"
    },
    "tags": []
   },
   "outputs": [],
   "source": [
    "fig, ax = plt.subplots(1, 2, figsize=(10, 4))\n",
    "plotting.coeval_sliceplot(coevals[0], ax=ax[0], fig=fig)\n",
    "plotting.coeval_sliceplot(brightness_temp_z16, ax=ax[1], fig=fig)\n",
    "plt.tight_layout()"
   ]
  },
  {
   "cell_type": "markdown",
   "id": "a49b8a86",
   "metadata": {
    "papermill": {
     "duration": 0.010997,
     "end_time": "2023-12-28T10:57:42.988226",
     "exception": false,
     "start_time": "2023-12-28T10:57:42.977229",
     "status": "completed"
    },
    "tags": []
   },
   "source": [
    "Of course, we could have pulled the cached data from a different redshift:"
   ]
  },
  {
   "cell_type": "code",
   "execution_count": null,
   "id": "b56e16ac",
   "metadata": {
    "execution": {
     "iopub.execute_input": "2023-12-28T10:57:42.997862Z",
     "iopub.status.busy": "2023-12-28T10:57:42.997414Z",
     "iopub.status.idle": "2023-12-28T10:57:43.214345Z",
     "shell.execute_reply": "2023-12-28T10:57:43.213550Z"
    },
    "papermill": {
     "duration": 0.223154,
     "end_time": "2023-12-28T10:57:43.215606",
     "exception": false,
     "start_time": "2023-12-28T10:57:42.992452",
     "status": "completed"
    },
    "tags": []
   },
   "outputs": [],
   "source": [
    "xH_z10 = runcache.get_output_struct_at_z(z=10., kind=\"IonizedBox\")\n",
    "xH_z6 = runcache.get_output_struct_at_z(z=6., kind=\"IonizedBox\")\n",
    "\n",
    "fig, ax = plt.subplots(1, 2, figsize=(10, 4))\n",
    "plotting.coeval_sliceplot(xH_z10, ax=ax[0], kind=\"xH_box\")\n",
    "ax[0].set_title(\"z=10\")\n",
    "plotting.coeval_sliceplot(xH_z6, ax=ax[1], kind=\"xH_box\")\n",
    "ax[1].set_title(\"z=6\")\n",
    "plt.tight_layout();"
   ]
  },
  {
   "cell_type": "markdown",
   "id": "61510904",
   "metadata": {
    "papermill": {
     "duration": 0.004557,
     "end_time": "2023-12-28T10:57:43.509349",
     "exception": false,
     "start_time": "2023-12-28T10:57:43.504792",
     "status": "completed"
    },
    "tags": []
   },
   "source": [
    "In fact, we could go further than this, and plot all the evaluated brightness temperatures. We can get the list of redshifts evaluated from the inputs directly as `node_redshifts`:"
   ]
  },
  {
   "cell_type": "code",
   "execution_count": null,
   "id": "172e3939",
   "metadata": {
    "execution": {
     "iopub.execute_input": "2023-12-28T10:57:43.519820Z",
     "iopub.status.busy": "2023-12-28T10:57:43.519370Z",
     "iopub.status.idle": "2023-12-28T10:57:45.402011Z",
     "shell.execute_reply": "2023-12-28T10:57:45.401116Z"
    },
    "papermill": {
     "duration": 1.889543,
     "end_time": "2023-12-28T10:57:45.403370",
     "exception": false,
     "start_time": "2023-12-28T10:57:43.513827",
     "status": "completed"
    },
    "tags": []
   },
   "outputs": [],
   "source": [
    "fig, ax = plt.subplots(\n",
    "    len(inputs.node_redshifts) // 3,\n",
    "    3,\n",
    "    figsize=(14, 4 * len(inputs.node_redshifts) // 3),\n",
    ")\n",
    "\n",
    "for i, z in enumerate(inputs.node_redshifts):\n",
    "    Tbz = runcache.get_output_struct_at_z(z=z, kind=\"BrightnessTemp\")\n",
    "    plotting.coeval_sliceplot(Tbz, ax=ax.flatten()[i])\n",
    "    ax.flatten()[i].set_title(f\"z={z:.2f}\")\n",
    "plt.tight_layout()"
   ]
  },
  {
   "cell_type": "markdown",
   "id": "33a59512",
   "metadata": {
    "papermill": {
     "duration": 0.010887,
     "end_time": "2023-12-28T10:57:45.419828",
     "exception": false,
     "start_time": "2023-12-28T10:57:45.408941",
     "status": "completed"
    },
    "tags": []
   },
   "source": [
    "We can also directly construct Coeval objects using the cache:"
   ]
  },
  {
   "cell_type": "code",
   "execution_count": null,
   "id": "8ec609df",
   "metadata": {
    "execution": {
     "iopub.execute_input": "2023-12-28T10:57:45.433454Z",
     "iopub.status.busy": "2023-12-28T10:57:45.433154Z",
     "iopub.status.idle": "2023-12-28T10:57:45.892954Z",
     "shell.execute_reply": "2023-12-28T10:57:45.892403Z"
    },
    "papermill": {
     "duration": 0.468217,
     "end_time": "2023-12-28T10:57:45.894099",
     "exception": false,
     "start_time": "2023-12-28T10:57:45.425882",
     "status": "completed"
    },
    "tags": []
   },
   "outputs": [],
   "source": [
    "coeval_z16 = runcache.get_coeval_at_z(\n",
    "    z=8.,\n",
    ")\n",
    "\n",
    "fig, ax = plt.subplots(1, 2, figsize=(10, 4))\n",
    "plotting.coeval_sliceplot(coeval_z16, ax=ax[0],kind='brightness_temp')\n",
    "plotting.coeval_sliceplot(coeval_z16, ax=ax[1],kind='xH_box')\n",
    "plt.tight_layout()"
   ]
  },
  {
   "cell_type": "markdown",
   "id": "50d37523",
   "metadata": {},
   "source": [
    "Coevals read in this way do not necessarily have to be in the `out_redshifts` of the coeval run, they can also be in the `node_redshifts`, or even computed in some other run with the same inputs and random seed."
   ]
  }
 ],
 "metadata": {
  "kernelspec": {
   "display_name": "base",
   "language": "python",
   "name": "python3"
  },
  "language_info": {
   "codemirror_mode": {
    "name": "ipython",
    "version": 3
   },
   "file_extension": ".py",
   "mimetype": "text/x-python",
   "name": "python",
   "nbconvert_exporter": "python",
   "pygments_lexer": "ipython3",
   "version": "3.12.7"
  },
  "latex_envs": {
   "LaTeX_envs_menu_present": true,
   "autoclose": true,
   "autocomplete": true,
   "bibliofile": "biblio.bib",
   "cite_by": "apalike",
   "current_citInitial": 1,
   "eqLabelWithNumbers": true,
   "eqNumInitial": 1,
   "hotkeys": {
    "equation": "Ctrl-E",
    "itemize": "Ctrl-I"
   },
   "labels_anchors": false,
   "latex_user_defs": false,
   "report_style_numbering": false,
   "user_envs_cfg": false
  },
  "papermill": {
   "default_parameters": {},
   "duration": 51.509561,
   "end_time": "2023-12-28T10:57:46.961981",
   "environment_variables": {},
   "exception": null,
   "input_path": "docs/tutorials/gather_data.ipynb",
   "output_path": "tmp.ipynb",
   "parameters": {},
   "start_time": "2023-12-28T10:56:55.452420",
   "version": "2.5.0"
  },
  "toc": {
   "base_numbering": 1,
   "nav_menu": {},
   "number_sections": true,
   "sideBar": true,
   "skip_h1_title": false,
   "title_cell": "Table of Contents",
   "title_sidebar": "Contents",
   "toc_cell": false,
   "toc_position": {},
   "toc_section_display": true,
   "toc_window_display": true
  }
 },
 "nbformat": 4,
 "nbformat_minor": 5
}
