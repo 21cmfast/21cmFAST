{
 "cells": [
  {
   "cell_type": "markdown",
   "metadata": {},
   "source": [
    "# Running and Plotting Coeval Cubes"
   ]
  },
  {
   "cell_type": "markdown",
   "metadata": {},
   "source": [
    "The aim of this tutorial is to introduce you to how `21cmFAST` does the most basic operations: producing single coeval cubes, and visually verifying them. It is a great place to get started with `21cmFAST`."
   ]
  },
  {
   "cell_type": "code",
   "execution_count": null,
   "metadata": {
    "ExecuteTime": {
     "end_time": "2020-02-29T22:10:11.054977Z",
     "start_time": "2020-02-29T22:10:10.248058Z"
    }
   },
   "outputs": [],
   "source": [
    "%matplotlib inline\n",
    "# We change the default level of the logger so that\n",
    "# we can see what's happening with caching.\n",
    "import logging\n",
    "\n",
    "import matplotlib.pyplot as plt\n",
    "\n",
    "logger = logging.getLogger(\"21cmFAST\")\n",
    "logger.setLevel(logging.INFO)\n",
    "\n",
    "from tempfile import mkdtemp\n",
    "\n",
    "import py21cmfast as p21c\n",
    "\n",
    "# For plotting the cubes, we use the plotting submodule:\n",
    "from py21cmfast import plotting"
   ]
  },
  {
   "cell_type": "code",
   "execution_count": null,
   "metadata": {
    "ExecuteTime": {
     "end_time": "2020-02-29T22:10:11.059890Z",
     "start_time": "2020-02-29T22:10:11.056796Z"
    }
   },
   "outputs": [],
   "source": [
    "print(f' Using 21cmFAST version {p21c.__version__}')"
   ]
  },
  {
   "cell_type": "markdown",
   "metadata": {},
   "source": [
    "## Basic Usage"
   ]
  },
  {
   "cell_type": "markdown",
   "metadata": {},
   "source": [
    "### Setting Up Inputs"
   ]
  },
  {
   "cell_type": "markdown",
   "metadata": {},
   "source": [
    "All possible input parameters for a `21cmFAST` simulation are defined in the \n",
    "`InputParameters` object. This object is sub-divided into four constituent sections:\n",
    "`cosmo_params`, `astro_params`, `simulation_options`, and `astro_options`, as well as the\n",
    "`random_seed` and `node_redshifts`, which define the redshifts required for computing\n",
    "the evolution of the simulation.\n",
    "\n",
    "You can create a full `InputParameters` object quickly and easily in a few ways.\n",
    "The first is simply to instantiate it directly. Here, the only _required_ parameter\n",
    "is the random seed:"
   ]
  },
  {
   "cell_type": "markdown",
   "metadata": {},
   "source": [
    "You can check out the full set of default parameters:"
   ]
  },
  {
   "cell_type": "code",
   "execution_count": null,
   "metadata": {},
   "outputs": [],
   "source": [
    "inputs = p21c.InputParameters(random_seed=12345)"
   ]
  },
  {
   "cell_type": "markdown",
   "metadata": {},
   "source": [
    "To set any desired parameters, the easiest way is to pass them at instantiation:"
   ]
  },
  {
   "cell_type": "code",
   "execution_count": null,
   "metadata": {},
   "outputs": [],
   "source": [
    "inputs = p21c.InputParameters(\n",
    "    simulation_options=p21c.SimulationOptions.new(HII_DIM=150), random_seed=12345\n",
    ")"
   ]
  },
  {
   "cell_type": "markdown",
   "metadata": {},
   "source": [
    "However, you can also get a new set of inputs by evolving an existing set:"
   ]
  },
  {
   "cell_type": "code",
   "execution_count": null,
   "metadata": {},
   "outputs": [],
   "source": [
    "inputs_large = inputs.evolve_input_structs(BOX_LEN=1000.0, HII_DIM=500, DIM=1000)"
   ]
  },
  {
   "cell_type": "markdown",
   "metadata": {},
   "source": [
    "In this case, you don't need to specify which sub-category of parameter each updated\n",
    "parameter belongs to. Nevertheless, you can also update those sub-categories directly:"
   ]
  },
  {
   "cell_type": "code",
   "execution_count": null,
   "metadata": {},
   "outputs": [],
   "source": [
    "inputs_small = inputs_large.clone(simulation_options=p21c.SimulationOptions())"
   ]
  },
  {
   "cell_type": "markdown",
   "metadata": {},
   "source": [
    "However, probably the easiest way to start a new simulation is to base your parameters\n",
    "on a particular template. A number of templates are built-in, spanning the range of \n",
    "simulations from small and fast to large and sophisticated:"
   ]
  },
  {
   "cell_type": "code",
   "execution_count": null,
   "metadata": {},
   "outputs": [],
   "source": [
    "for _template in p21c.run_templates.list_templates():\n",
    "    print(f'name: {_template['name']}')\n",
    "    print(f'description: {_template['description']}')\n",
    "    print(f'---------')\n",
    "    pass"
   ]
  },
  {
   "cell_type": "markdown",
   "metadata": {},
   "source": [
    "In this tutorial, we want something small and fast:"
   ]
  },
  {
   "cell_type": "code",
   "execution_count": null,
   "metadata": {},
   "outputs": [],
   "source": [
    "inputs = p21c.InputParameters.from_template(\n",
    "    \"simple\", random_seed=1234\n",
    ").evolve_input_structs(BOX_LEN=100.0, DIM=200, HII_DIM=100)"
   ]
  },
  {
   "cell_type": "markdown",
   "metadata": {},
   "source": [
    "<div class=\"alert alert-info\">\n",
    "\n",
    "Note\n",
    "\n",
    "Why do we require you to specify the random seed explicitly? Because doing so minimizes\n",
    "surprises. As we will see, `21cmFAST` attempts to cache its results, and can therefore\n",
    "return the same simulation when the same parameters are given. This is sometimes \n",
    "surprising, if you were trying to generate multiple realizations of simulations with the \n",
    "same parameters. Always explicitly specifying the seed requires *you* to take control\n",
    "of this behavior.\n",
    "\n",
    "</div>"
   ]
  },
  {
   "cell_type": "markdown",
   "metadata": {},
   "source": [
    "#### Specifying the evolution"
   ]
  },
  {
   "cell_type": "markdown",
   "metadata": {},
   "source": [
    "While the simulations we will perform in this tutorial will not require any evolution\n",
    "over cosmic time, there are several situations in which this is required:\n",
    "\n",
    "1. The desired output is a lightcone that evolves over redshift.\n",
    "2. The input options (generally toggled via parameters in `InputParameters.astro_options`)\n",
    "   specify physical processes that can only be computed by integrating over cosmic \n",
    "   history. For example, computing spin temperature fluctuations or using a population\n",
    "   of mini-halos will require this.\n",
    "\n",
    "To check if your simulation parameters *require* evolution, you can do:"
   ]
  },
  {
   "cell_type": "code",
   "execution_count": null,
   "metadata": {},
   "outputs": [],
   "source": [
    "inputs.evolution_required"
   ]
  },
  {
   "cell_type": "markdown",
   "metadata": {},
   "source": [
    "Models that _do_ require evolution also require a specification for which redshifts to\n",
    "use when scrolling through cosmic history. These will be set by default when using such\n",
    "a model, for example:"
   ]
  },
  {
   "cell_type": "code",
   "execution_count": null,
   "metadata": {},
   "outputs": [],
   "source": [
    "inputs_with_evolution = p21c.InputParameters.from_template(\"Munoz21\", random_seed=123)"
   ]
  },
  {
   "cell_type": "code",
   "execution_count": null,
   "metadata": {},
   "outputs": [],
   "source": [
    "inputs_with_evolution.evolution_required"
   ]
  },
  {
   "cell_type": "code",
   "execution_count": null,
   "metadata": {},
   "outputs": [],
   "source": [
    "print(f'Number of redshift nodes: {len(inputs_with_evolution.node_redshifts)}')\n",
    "print(f'Max redshift: {max(inputs_with_evolution.node_redshifts)}')\n",
    "print(f'Min redshift: {min(inputs_with_evolution.node_redshifts)}')"
   ]
  },
  {
   "cell_type": "markdown",
   "metadata": {},
   "source": [
    "You can specify these \"node\" redshifts yourself:"
   ]
  },
  {
   "cell_type": "code",
   "execution_count": null,
   "metadata": {},
   "outputs": [],
   "source": [
    "p21c.InputParameters.from_template(\n",
    "    \"Munoz21\", random_seed=123, node_redshifts=(5, 6, 7, 10, 15, 25, 35)\n",
    ").node_redshifts"
   ]
  },
  {
   "cell_type": "code",
   "execution_count": null,
   "metadata": {},
   "outputs": [],
   "source": [
    "p21c.InputParameters.from_template(\n",
    "    \"Munoz21\", random_seed=123, node_redshifts=p21c.get_logspaced_redshifts(min_redshift=5,max_redshift=35,z_step_factor=1.1)\n",
    ").node_redshifts"
   ]
  },
  {
   "cell_type": "markdown",
   "metadata": {},
   "source": [
    "When doing so, remember that accuracy is decreased when fewer nodes are used, especially\n",
    "during times when the universe is changing more rapidly (e.g. throughout reionization).\n",
    "Also keep in mind that the redshifts must _at least_ extend to `Z_HEAT_MAX`: a parameter\n",
    "that defines the redshift beyond which background fluctuations are considered negligible.\n",
    "An error will be raised if this is not respected."
   ]
  },
  {
   "cell_type": "code",
   "execution_count": null,
   "metadata": {},
   "outputs": [],
   "source": [
    "finer_zgrid = p21c.InputParameters(\n",
    "    random_seed=123,\n",
    "    node_redshifts=p21c.get_logspaced_redshifts(min_redshift=5.,max_redshift=25,z_step_factor=1.02),\n",
    "    astro_options={\"USE_TS_FLUCT\": True},\n",
    "    simulation_options={\"Z_HEAT_MAX\": 25.0},\n",
    ")"
   ]
  },
  {
   "cell_type": "markdown",
   "metadata": {},
   "source": [
    "## Run a simulation using `run_coeval` and `generate_coeval`"
   ]
  },
  {
   "cell_type": "markdown",
   "metadata": {},
   "source": [
    "The simplest (and typically most efficient) way to produce a coeval cube is simply to \n",
    "use the `run_coeval` method. This consistently performs all steps of the calculation, \n",
    "re-using any data that it can without re-computation or increased memory overhead."
   ]
  },
  {
   "cell_type": "markdown",
   "metadata": {},
   "source": [
    "First we make a temporary cache to store our fields, in larger runs 21cmFAST can store its outputs in an `OutputCache` to avoid unnecessary regeneration"
   ]
  },
  {
   "cell_type": "code",
   "execution_count": null,
   "metadata": {},
   "outputs": [],
   "source": [
    "cache = p21c.OutputCache(mkdtemp())"
   ]
  },
  {
   "cell_type": "code",
   "execution_count": null,
   "metadata": {},
   "outputs": [],
   "source": [
    "coevals = p21c.run_coeval(\n",
    "    inputs=inputs,\n",
    "    out_redshifts=[8, 9, 10],\n",
    "    cache=cache,\n",
    ")"
   ]
  },
  {
   "cell_type": "markdown",
   "metadata": {},
   "source": [
    "The `generate_coeval` method is a generator, which can be called as follows:"
   ]
  },
  {
   "cell_type": "code",
   "execution_count": null,
   "metadata": {},
   "outputs": [],
   "source": [
    "coevals = []\n",
    "for coeval,in_outputs in p21c.generate_coeval(\n",
    "    inputs=inputs,\n",
    "    out_redshifts=[8, 9, 10],\n",
    "    cache=cache,\n",
    "):\n",
    "    if in_outputs:\n",
    "        coevals.append(coeval)\n",
    "        "
   ]
  },
  {
   "cell_type": "markdown",
   "metadata": {},
   "source": [
    "Note that this run was much faster, since we cached the outputs from the previous run, and they were simply loaded instead of re-calculated"
   ]
  },
  {
   "cell_type": "markdown",
   "metadata": {},
   "source": [
    "There are a number of possible inputs for `generate/run_coeval`, which you can check out either in the [API reference](../reference/py21cmfast.html) or by calling `help(p21c.run_coeval)`. \n",
    "\n",
    "Notably, in our case here, the `out_redshifts` must be given: these are the redshifts\n",
    "at which we compute the coeval boxes. When the simulation requires evolution over \n",
    "cosmic history, coeval boxes will be computed at every node _as well as_ any \n",
    "`out_redshifts` specified. \n",
    "\n",
    "Since the function is a generator, it yields a `Coeval` box on each iteration. These\n",
    "boxes can be saved or post-processed before completing the next iteration, allowing\n",
    "arbitrarily flexible computations to be performed. The second returned values is a \n",
    "boolean which tells you whether you are at a requested output point in `out_redshifts`.\n",
    "\n",
    "We've also given a `cache` parameter: this specifies a directory in which the various\n",
    "component calculations of this simulation will be cached. By default, this will occur\n",
    "in the current directory, but here we are using a temporary directory for convenience.\n",
    "While by default all sub-components are written into the cache, this can be turned off\n",
    "altogether, or toggled per subcomponent. The main reason to use the cache is if you \n",
    "might want to re-use simulated component boxes in other simulations in the future.\n",
    "A prime example of this is the `InitialConditions`, for which a single simulation can\n",
    "be used for a multitude of astrophysical simulations with varying `AstroParams`. "
   ]
  },
  {
   "cell_type": "markdown",
   "metadata": {},
   "source": [
    "The output on each iteration is, as we have mentioned, a `Coeval` object. This is a simple\n",
    "object that contains a number of 3D arrays of data, one for each of the component fields\n",
    "simulated. They can be accessed as attributes of the object:"
   ]
  },
  {
   "cell_type": "code",
   "execution_count": null,
   "metadata": {},
   "outputs": [],
   "source": [
    "coevals[0].redshift"
   ]
  },
  {
   "cell_type": "markdown",
   "metadata": {},
   "source": [
    "A list of all simulated fields can be accessed:"
   ]
  },
  {
   "cell_type": "code",
   "execution_count": null,
   "metadata": {},
   "outputs": [],
   "source": [
    "coevals[0].get_fields()"
   ]
  },
  {
   "cell_type": "markdown",
   "metadata": {},
   "source": [
    "The `Coeval` object also maintains a reference to the input parameters:"
   ]
  },
  {
   "cell_type": "code",
   "execution_count": null,
   "metadata": {},
   "outputs": [],
   "source": [
    "coevals[0].inputs"
   ]
  },
  {
   "cell_type": "markdown",
   "metadata": {},
   "source": [
    "We can also save/load a Coeval object to disk:"
   ]
  },
  {
   "cell_type": "code",
   "execution_count": null,
   "metadata": {
    "ExecuteTime": {
     "end_time": "2020-02-29T22:10:27.644169Z",
     "start_time": "2020-02-29T22:10:27.442997Z"
    }
   },
   "outputs": [],
   "source": [
    "coevals[0].save(cache.direc / \"coeval.h5\")"
   ]
  },
  {
   "cell_type": "markdown",
   "metadata": {},
   "source": [
    "Note that, if you are also using the cache (as we are), then saving the `Coeval` object\n",
    "creates redundant data on disk. The files created by `Coeval` are more convenient for \n",
    "saving, sharing and using in further post-processing, but are not easily used for \n",
    "caching purposes."
   ]
  },
  {
   "cell_type": "markdown",
   "metadata": {},
   "source": [
    "The file that we wrote can be easily read:"
   ]
  },
  {
   "cell_type": "code",
   "execution_count": null,
   "metadata": {},
   "outputs": [],
   "source": [
    "coeval10 = p21c.Coeval.from_file(cache.direc / \"coeval.h5\")"
   ]
  },
  {
   "cell_type": "markdown",
   "metadata": {},
   "source": [
    "Some convenient plotting functions exist in the `plotting` module. These can work directly on `Coeval` objects, or any of the output structs (as we'll see further on in the tutorial). By default the `coeval_sliceplot` function will plot the `brightness_temp`, using the standard traditional colormap:"
   ]
  },
  {
   "cell_type": "code",
   "execution_count": null,
   "metadata": {
    "ExecuteTime": {
     "end_time": "2020-02-29T22:10:29.863171Z",
     "start_time": "2020-02-29T22:10:28.657079Z"
    }
   },
   "outputs": [],
   "source": [
    "fig, ax = plt.subplots(1, 3, figsize=(14, 4))\n",
    "for i, coeval in enumerate(coevals):\n",
    "    plotting.coeval_sliceplot(coeval, ax=ax[i], fig=fig)\n",
    "    plt.title(f\"z = {coeval.redshift}\")\n",
    "plt.tight_layout()"
   ]
  },
  {
   "cell_type": "markdown",
   "metadata": {},
   "source": [
    "Any 3D field can be plotted, by setting the `kind` argument. For example, we could alternatively have plotted the dark matter density cubes perturbed to each redshift:"
   ]
  },
  {
   "cell_type": "code",
   "execution_count": null,
   "metadata": {
    "ExecuteTime": {
     "end_time": "2020-02-29T22:10:30.842329Z",
     "start_time": "2020-02-29T22:10:29.864621Z"
    }
   },
   "outputs": [],
   "source": [
    "fig, ax = plt.subplots(1, 3, figsize=(14, 4))\n",
    "for i, coeval in enumerate(coevals):\n",
    "    plotting.coeval_sliceplot(coeval, kind=\"density\", ax=ax[i], fig=fig)\n",
    "    plt.title(f\"z = {coeval.redshift}\")\n",
    "plt.tight_layout()"
   ]
  },
  {
   "cell_type": "markdown",
   "metadata": {},
   "source": [
    "To see more options for the plotting routines, see the [API Documentation](../reference/_autosummary/py21cmfast.plotting.html)."
   ]
  },
  {
   "cell_type": "markdown",
   "metadata": {},
   "source": [
    "This brief example covers most of the basic usage of `21cmFAST` (at least with `Coeval` objects -- there are also `Lightcone` objects for which there is a separate tutorial). \n",
    "\n",
    "For the rest of the tutorial, we'll cover a more advanced usage, in which each step of the calculation is done independently."
   ]
  },
  {
   "cell_type": "markdown",
   "metadata": {},
   "source": [
    "## Advanced Step-by-Step Usage"
   ]
  },
  {
   "cell_type": "markdown",
   "metadata": {},
   "source": [
    "Most users most of the time will want to use the high-level `run_coeval` function from the previous section. However, there are several independent steps when computing the brightness temperature field, and these can be performed one-by-one, adding any other effects between them if desired. In this section, we'll go through in more detail how to use the lower-level methods.\n",
    "\n",
    "Each step is performed by running a function which will return a single object. \n",
    "Every major function returns an object of the same fundamental class (an ``OutputStruct``) \n",
    "which has methods to share its underlying data with the backend C code, and maintain \n",
    "knowledge of the state of its memory.\n",
    "\n",
    "As we move through each step, we'll outline some extra details, hints and tips about using these inputs and outputs."
   ]
  },
  {
   "cell_type": "markdown",
   "metadata": {},
   "source": [
    "The first thing to do is to set up the input parameters. Here, we'll use the same\n",
    "basic set of parameters as we used in `run_coeval`, but with a different random seed, \n",
    "which ensures that we compute all new boxes."
   ]
  },
  {
   "cell_type": "code",
   "execution_count": null,
   "metadata": {},
   "outputs": [],
   "source": [
    "new_inputs = inputs.clone(random_seed=42)"
   ]
  },
  {
   "cell_type": "markdown",
   "metadata": {},
   "source": [
    "### Initial Conditions"
   ]
  },
  {
   "cell_type": "markdown",
   "metadata": {},
   "source": [
    "The first step is to get the initial conditions, which defines the *cosmological* density field before any redshift evolution is applied."
   ]
  },
  {
   "cell_type": "code",
   "execution_count": null,
   "metadata": {
    "ExecuteTime": {
     "end_time": "2020-02-29T22:10:41.882249Z",
     "start_time": "2020-02-29T22:10:31.202726Z"
    }
   },
   "outputs": [],
   "source": [
    "initial_conditions = p21c.compute_initial_conditions(\n",
    "    inputs=new_inputs, cache=cache, write=True\n",
    ")"
   ]
  },
  {
   "cell_type": "markdown",
   "metadata": {},
   "source": [
    "As we said, all of these \"single field\" functions return objects of type `OutputStruct`.\n",
    "These objects have a few things in common. For example, they hold a reference to their\n",
    "input parameters:"
   ]
  },
  {
   "cell_type": "code",
   "execution_count": null,
   "metadata": {},
   "outputs": [],
   "source": [
    "initial_conditions.inputs.simulation_options.HII_DIM"
   ]
  },
  {
   "cell_type": "markdown",
   "metadata": {},
   "source": [
    "More importantly, once computed, they hold the simulated data. This data is held in \n",
    "special `Array` objects, and all the available simulated fields can be accessed through\n",
    "the `.arrays` attribute:"
   ]
  },
  {
   "cell_type": "code",
   "execution_count": null,
   "metadata": {},
   "outputs": [],
   "source": [
    "initial_conditions.arrays.keys()"
   ]
  },
  {
   "cell_type": "markdown",
   "metadata": {},
   "source": [
    "As we mentioned, the values of these attributes are _not_ numpy arrays, but custom\n",
    "`Array` objects. These have the ability to track their state: whether they initialized,\n",
    "computed, stored on disk, etc., and they also know how to share themselves with the \n",
    "C backend. While this is useful for the simulation, it is not that helpful to _you_ as \n",
    "a user. That's OK: these objects aren't really meant to be the primary way you interact\n",
    "with `21cmFAST` as a user. \n",
    "\n",
    "However, to get at the underlying numpy array, you can use the `.get()` method:"
   ]
  },
  {
   "cell_type": "code",
   "execution_count": null,
   "metadata": {},
   "outputs": [],
   "source": [
    "initial_conditions.get(\"lowres_density\").mean()"
   ]
  },
  {
   "cell_type": "markdown",
   "metadata": {},
   "source": [
    "This has the handy feature that even if the array has been purged from memory but stored\n",
    "on disk, the `.get()` method will still return the array (it will read it from disk,\n",
    "and store it back on the object until you tell the object to purge it again).\n",
    "\n",
    "For example:"
   ]
  },
  {
   "cell_type": "code",
   "execution_count": null,
   "metadata": {},
   "outputs": [],
   "source": [
    "initial_conditions.purge()"
   ]
  },
  {
   "cell_type": "markdown",
   "metadata": {},
   "source": [
    "Once purged, the array's state shows that it is not initialized or in memory, but it\n",
    "is stored on disk (because we passed `write=True` when computing it):"
   ]
  },
  {
   "cell_type": "code",
   "execution_count": null,
   "metadata": {},
   "outputs": [],
   "source": [
    "initial_conditions.lowres_density.state"
   ]
  },
  {
   "cell_type": "markdown",
   "metadata": {},
   "source": [
    "However, when we use `.get()`, the array is re-loaded:"
   ]
  },
  {
   "cell_type": "code",
   "execution_count": null,
   "metadata": {},
   "outputs": [],
   "source": [
    "initial_conditions.get(\"lowres_density\").mean()"
   ]
  },
  {
   "cell_type": "code",
   "execution_count": null,
   "metadata": {},
   "outputs": [],
   "source": [
    "initial_conditions.lowres_density.state"
   ]
  },
  {
   "cell_type": "markdown",
   "metadata": {},
   "source": [
    "The `coeval_sliceplot` function also works on `OutputStruct` objects (as well as the `Coeval` object as we've already seen). It takes the object, and a specific field name. By default, the field it plots is the _first_ field in `arrays` (for any `OutputStruct`)."
   ]
  },
  {
   "cell_type": "code",
   "execution_count": null,
   "metadata": {
    "ExecuteTime": {
     "end_time": "2020-02-29T22:10:43.078040Z",
     "start_time": "2020-02-29T22:10:42.845666Z"
    }
   },
   "outputs": [],
   "source": [
    "plotting.coeval_sliceplot(initial_conditions, \"hires_density\");"
   ]
  },
  {
   "cell_type": "markdown",
   "metadata": {},
   "source": [
    "### Perturbed Field"
   ]
  },
  {
   "cell_type": "markdown",
   "metadata": {},
   "source": [
    "After obtaining the initial conditions, we need to *perturb* the field to a given redshift (i.e. the redshift we care about). This step clearly requires the results of the previous step, which we can easily just pass in. Let's do that:"
   ]
  },
  {
   "cell_type": "code",
   "execution_count": null,
   "metadata": {
    "ExecuteTime": {
     "end_time": "2020-02-29T22:10:43.461429Z",
     "start_time": "2020-02-29T22:10:43.079489Z"
    }
   },
   "outputs": [],
   "source": [
    "perturbed_field = p21c.perturb_field(\n",
    "    redshift=8.0, initial_conditions=initial_conditions\n",
    ")"
   ]
  },
  {
   "cell_type": "markdown",
   "metadata": {},
   "source": [
    "Note that we didn't need to pass in any input parameters, because they are all contained in the `initial_conditions` object itself. The random seed is also taken from this object.\n",
    "\n",
    "Again, the output is an `OutputStruct`, so we can view its fields:"
   ]
  },
  {
   "cell_type": "code",
   "execution_count": null,
   "metadata": {
    "ExecuteTime": {
     "end_time": "2020-02-29T22:10:43.467710Z",
     "start_time": "2020-02-29T22:10:43.464305Z"
    }
   },
   "outputs": [],
   "source": [
    "perturbed_field.arrays.keys()"
   ]
  },
  {
   "cell_type": "markdown",
   "metadata": {},
   "source": [
    "This time, it has only density and velocity (the velocity direction is chosen without loss of generality). Let's view the perturbed density field:"
   ]
  },
  {
   "cell_type": "code",
   "execution_count": null,
   "metadata": {
    "ExecuteTime": {
     "end_time": "2020-02-29T22:10:43.658615Z",
     "start_time": "2020-02-29T22:10:43.469373Z"
    }
   },
   "outputs": [],
   "source": [
    "plotting.coeval_sliceplot(perturbed_field, \"density\");"
   ]
  },
  {
   "cell_type": "markdown",
   "metadata": {},
   "source": [
    "It is clear here that the density used is the *low*-res density, but the overall structure of the field looks very similar."
   ]
  },
  {
   "cell_type": "markdown",
   "metadata": {},
   "source": [
    "### Ionization Field"
   ]
  },
  {
   "cell_type": "markdown",
   "metadata": {},
   "source": [
    "Next, we need to ionize the box. This is where things get a little more tricky. \n",
    "In the simplest case we are using in this tutorial, the ionization occurs at the \n",
    "*saturated limit*, which means we can safely ignore the contribution of the spin \n",
    "temperature fluctuations. \n",
    "This means we can directly calculate the ionization on the density/velocity fields that \n",
    "we already have."
   ]
  },
  {
   "cell_type": "code",
   "execution_count": null,
   "metadata": {
    "ExecuteTime": {
     "end_time": "2020-02-29T22:10:44.909517Z",
     "start_time": "2020-02-29T22:10:43.659834Z"
    }
   },
   "outputs": [],
   "source": [
    "ionized_field = p21c.compute_ionization_field(\n",
    "    initial_conditions=initial_conditions, perturbed_field=perturbed_field\n",
    ")"
   ]
  },
  {
   "cell_type": "markdown",
   "metadata": {},
   "source": [
    "Let's see the fieldnames:"
   ]
  },
  {
   "cell_type": "code",
   "execution_count": null,
   "metadata": {
    "ExecuteTime": {
     "end_time": "2020-02-29T22:10:44.914928Z",
     "start_time": "2020-02-29T22:10:44.911001Z"
    }
   },
   "outputs": [],
   "source": [
    "ionized_field.arrays.keys()"
   ]
  },
  {
   "cell_type": "markdown",
   "metadata": {},
   "source": [
    "Let's plot the neutral fraction:"
   ]
  },
  {
   "cell_type": "code",
   "execution_count": null,
   "metadata": {
    "ExecuteTime": {
     "end_time": "2020-02-29T22:10:45.120787Z",
     "start_time": "2020-02-29T22:10:44.916354Z"
    }
   },
   "outputs": [],
   "source": [
    "plotting.coeval_sliceplot(ionized_field, \"xH_box\");"
   ]
  },
  {
   "cell_type": "markdown",
   "metadata": {},
   "source": [
    "### Brightness Temperature"
   ]
  },
  {
   "cell_type": "markdown",
   "metadata": {},
   "source": [
    "Now we can use what we have to get the brightness temperature:"
   ]
  },
  {
   "cell_type": "code",
   "execution_count": null,
   "metadata": {
    "ExecuteTime": {
     "end_time": "2020-02-29T22:10:45.153348Z",
     "start_time": "2020-02-29T22:10:45.122062Z"
    }
   },
   "outputs": [],
   "source": [
    "brightness_temp = p21c.brightness_temperature(\n",
    "    ionized_box=ionized_field, perturbed_field=perturbed_field\n",
    ")"
   ]
  },
  {
   "cell_type": "markdown",
   "metadata": {},
   "source": [
    "This has only a single field, ``brightness_temp``:"
   ]
  },
  {
   "cell_type": "code",
   "execution_count": null,
   "metadata": {
    "ExecuteTime": {
     "end_time": "2020-02-29T22:10:45.355868Z",
     "start_time": "2020-02-29T22:10:45.155043Z"
    }
   },
   "outputs": [],
   "source": [
    "plotting.coeval_sliceplot(brightness_temp);"
   ]
  }
 ],
 "metadata": {
  "kernelspec": {
   "display_name": ".venv",
   "language": "python",
   "name": "python3"
  },
  "language_info": {
   "codemirror_mode": {
    "name": "ipython",
    "version": 3
   },
   "file_extension": ".py",
   "mimetype": "text/x-python",
   "name": "python",
   "nbconvert_exporter": "python",
   "pygments_lexer": "ipython3",
   "version": "3.12.7"
  },
  "latex_envs": {
   "LaTeX_envs_menu_present": true,
   "autoclose": true,
   "autocomplete": true,
   "bibliofile": "biblio.bib",
   "cite_by": "apalike",
   "current_citInitial": 1,
   "eqLabelWithNumbers": true,
   "eqNumInitial": 1,
   "hotkeys": {
    "equation": "Ctrl-E",
    "itemize": "Ctrl-I"
   },
   "labels_anchors": false,
   "latex_user_defs": false,
   "report_style_numbering": false,
   "user_envs_cfg": false
  },
  "toc": {
   "base_numbering": 1,
   "nav_menu": {},
   "number_sections": true,
   "sideBar": true,
   "skip_h1_title": false,
   "title_cell": "Table of Contents",
   "title_sidebar": "Contents",
   "toc_cell": false,
   "toc_position": {},
   "toc_section_display": true,
   "toc_window_display": true
  }
 },
 "nbformat": 4,
 "nbformat_minor": 2
}
