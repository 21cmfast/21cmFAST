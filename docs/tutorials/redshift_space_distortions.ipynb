{
 "cells": [
  {
   "cell_type": "markdown",
   "metadata": {},
   "source": [
    "# Redshift Space Distortions"
   ]
  },
  {
   "cell_type": "markdown",
   "metadata": {},
   "source": [
    "This tutorial follows on from the [coeval cube](coeval_cubes) and [lightcone](lightcones) tutorials, and provides an introduction to apply the effects of redshift space distortions (RSDs) with ``21cmFAST``. If you are new to ``21cmFAST`` you should go through the coeval cube and lightcone tutorials first."
   ]
  },
  {
   "cell_type": "markdown",
   "metadata": {},
   "source": [
    "According to [Mao et al. 2012](https://arxiv.org/pdf/1104.2094), there are two types of distortions due to peculiar velocity along the line-of-sight (LOS) vecotr $\\mathbf n$.\n",
    "1. **Brightness temperature distortion in real-space.** This effect modifies the 21-cm optical depth due to the velocity gradient of HI atoms,\n",
    "\\begin{equation*}\n",
    "\\tau_{21}\\propto\\left|1+\\frac{1}{H}\\frac{d\\left(\\mathbf n\\cdot \\mathbf v\\right)}{d\\left(\\mathbf n\\cdot \\mathbf x\\right)}\\right|^{-1}.\n",
    "\\end{equation*}\n",
    " This velocity gradient arises simply because we measure the optical depth from an expanding medium.\n",
    "2. **Apparent location distortion in redshift-space.** This is the well known RSD effect: sources appear to be closer/further away from us due to their peculiar velocity. In our case, the sources are the HI atoms!"
   ]
  },
  {
   "cell_type": "markdown",
   "metadata": {},
   "source": [
    "The above two effects can be accounted when running lightcones in `21cmFAST`, regardless if they are rectilinear or angular. The first effect is taken into account by setting `INCLUDE_DVDR_IN_TAU21=True`, while the second effect can be taken into account by setting `APPLY_RSDS=True`.\n",
    "\n",
    "While we stress that the first effect (that is controlled by the `INCLUDE_DVDR_IN_TAU21` flag) has nothing to with redshift space, below we collectively refer to it together with the second effect as \"RSDs\"."
   ]
  },
  {
   "cell_type": "code",
   "execution_count": null,
   "metadata": {
    "ExecuteTime": {
     "end_time": "2023-03-16T17:09:54.467808Z",
     "start_time": "2023-03-16T17:09:53.102218Z"
    }
   },
   "outputs": [],
   "source": [
    "from tempfile import mkdtemp\n",
    "\n",
    "import matplotlib.pyplot as plt\n",
    "import numpy as np\n",
    "\n",
    "import py21cmfast as p21c\n",
    "from py21cmfast import plotting\n",
    "\n",
    "#%matplotlib inline"
   ]
  },
  {
   "cell_type": "code",
   "execution_count": null,
   "metadata": {},
   "outputs": [],
   "source": [
    "cache = p21c.OutputCache(mkdtemp())"
   ]
  },
  {
   "cell_type": "markdown",
   "metadata": {},
   "source": [
    "## Redshift Space Distortions in Rectilinear Lightcone"
   ]
  },
  {
   "cell_type": "markdown",
   "metadata": {},
   "source": [
    "Let's set up a standard rectilinear lightcone subclass."
   ]
  },
  {
   "cell_type": "code",
   "execution_count": null,
   "metadata": {},
   "outputs": [],
   "source": [
    "inputs = p21c.InputParameters.from_template(\n",
    "        'simple',\n",
    "        node_redshifts=p21c.wrapper.inputs.get_logspaced_redshifts(\n",
    "            min_redshift=7.0,\n",
    "            z_step_factor=1.1,\n",
    "            max_redshift=12.0,\n",
    "        ),\n",
    "        random_seed=1234,\n",
    "    ).evolve_input_structs(HII_DIM=64, BOX_LEN=128, N_THREADS = 4)"
   ]
  },
  {
   "cell_type": "code",
   "execution_count": null,
   "metadata": {},
   "outputs": [],
   "source": [
    "lcn = p21c.RectilinearLightconer.between_redshifts(\n",
    "    min_redshift=inputs.node_redshifts[-1]+0.5,\n",
    "    max_redshift=inputs.node_redshifts[0]-0.5,\n",
    "    quantities=(\"brightness_temp\",\"density\"),\n",
    "    resolution=inputs.simulation_options.cell_size,\n",
    ")"
   ]
  },
  {
   "cell_type": "markdown",
   "metadata": {},
   "source": [
    "Note that we defined the boundaries of our lightconer to be slightly shorter than the boundaries of `node_redshifts`. This is required when we  `APPLY_RSDS`, as \"mass\" outside the lightcone shifts to its interior due to the RSD effect. `21cmFASTv4` accounts for this effect by constructing a bigger \"ghost\" lightconer that is used throughout the simulation. Once the RSD calculation finishes, the returned lightcone object has the same size as the user's input lightconer.\n",
    "\n",
    "Note also that the implementation of RSDs on lightcones in `21cmFASTv4` has been updated. In `21cmFASTv3` both RSD effects were implemented on the coeval box, while the lightcone was later constructed from interpolating the coeval boxes. In contrast, in `21cmFASTv4` the coeval boxes are always computed without the effect of RSDs, as these effects are applied later on the lightcone once its construction is complete. This was done to highlight the fact that RSDs act along the LOS, and since coeval boxes have no preferred direction, the lightcone is the more appropriate object to consider here. Nevertheless, `21cmFASTv4` still allows the application of RSDs on coeval boxes (even though it is less consistent), as we show later in this tutorial."
   ]
  },
  {
   "cell_type": "markdown",
   "metadata": {},
   "source": [
    "We run first a lightcone without any RSD effect."
   ]
  },
  {
   "cell_type": "code",
   "execution_count": null,
   "metadata": {
    "ExecuteTime": {
     "end_time": "2020-02-29T22:25:11.665270Z",
     "start_time": "2020-02-29T22:25:08.941967Z"
    },
    "scrolled": true
   },
   "outputs": [],
   "source": [
    "idx, z, coeval, lightcone = p21c.run_lightcone(\n",
    "    lightconer=lcn,\n",
    "    global_quantities=(\"brightness_temp\",),\n",
    "    inputs=inputs.evolve_input_structs(INCLUDE_DVDR_IN_TAU21=False, APPLY_RSDS=False),\n",
    "    cache=cache,\n",
    "    progressbar=True\n",
    ")"
   ]
  },
  {
   "cell_type": "markdown",
   "metadata": {},
   "source": [
    "Now we run two more lightcones with the RSD effects."
   ]
  },
  {
   "cell_type": "code",
   "execution_count": null,
   "metadata": {},
   "outputs": [],
   "source": [
    "idx, z, coeval, lightcone_include_dvdr_in_tau21 = p21c.run_lightcone(\n",
    "    lightconer=lcn,\n",
    "    global_quantities=(\"brightness_temp\",),\n",
    "    inputs=inputs.evolve_input_structs(INCLUDE_DVDR_IN_TAU21=True, APPLY_RSDS=False),\n",
    "    cache=cache,\n",
    "    progressbar=True\n",
    ")"
   ]
  },
  {
   "cell_type": "code",
   "execution_count": null,
   "metadata": {},
   "outputs": [],
   "source": [
    "idx, z, coeval, lightcone_apply_rsds = p21c.run_lightcone(\n",
    "    lightconer=lcn,\n",
    "    global_quantities=(\"brightness_temp\",),\n",
    "    inputs=inputs.evolve_input_structs(INCLUDE_DVDR_IN_TAU21=True, APPLY_RSDS=True),\n",
    "    cache=cache,\n",
    "    progressbar=True\n",
    ")"
   ]
  },
  {
   "cell_type": "markdown",
   "metadata": {},
   "source": [
    "Before making any comparison plots, let us verify that the boundaries of the lightcone from the last simulation matches the boundaries of our input lightconer, even though the inclusion of the RSDs required a larger \"ghost\" lightcone to consider."
   ]
  },
  {
   "cell_type": "code",
   "execution_count": null,
   "metadata": {},
   "outputs": [],
   "source": [
    "np.all(lightcone_apply_rsds.lightcone_distances == lcn.lc_distances)"
   ]
  },
  {
   "cell_type": "markdown",
   "metadata": {},
   "source": [
    "Now let's compare all the three lightcones!\n",
    "\n",
    "We begin by showing the front face of them. Note that when setting `INCLUDE_DVDR_TAU21=True`, then the lightcone box stored in `brightness_temp` is modified to include the effect of velocity gradient. If `APPLY_RSDS=True`, the output lightcone contains a new quantity named `brightness_temp_with_rsds`. As the name suggests, this quantity accounts for the effects of `APPLY_RSDS` on the brightness temperature field such that this quantity is now given in redshift space. In real space, the brightness temperature field is still saved in `brightness_temp`."
   ]
  },
  {
   "cell_type": "code",
   "execution_count": null,
   "metadata": {},
   "outputs": [],
   "source": [
    "fig, ax = plt.subplots(1, 3, sharex=True, sharey=True, figsize=(12, 16))\n",
    "kw = {\n",
    "    \"origin\": \"lower\",\n",
    "    \"extent\": (0, inputs.simulation_options.BOX_LEN, 0, inputs.simulation_options.BOX_LEN),\n",
    "    \"cmap\": \"EoR\",\n",
    "    \"vmin\": -150,\n",
    "    \"vmax\": 30,\n",
    "}\n",
    "\n",
    "ax[0].imshow(lightcone.lightcones[\"brightness_temp\"][:, :, 0], **kw)\n",
    "ax[0].set_title(\"INCLUDE_DVDR_IN_TAU21=False,\\nAPPLY_RSDS=False\")\n",
    "ax[1].imshow(lightcone_include_dvdr_in_tau21.lightcones[\"brightness_temp\"][:, :, 0], **kw)\n",
    "ax[1].set_title(\"INCLUDE_DVDR_IN_TAU21=True,\\nAPPLY_RSDS=False\")\n",
    "ax[2].imshow(lightcone_apply_rsds.lightcones[\"brightness_temp_with_rsds\"][:, :, 0], **kw)\n",
    "ax[2].set_title(\"INCLUDE_DVDR_IN_TAU21=True,\\nAPPLY_RSDS=True\")\n",
    "\n",
    "ax[0].set_xlabel(\"Transverse (x) dimension [cMpc]\")\n",
    "ax[1].set_xlabel(\"Transverse (x) dimension [cMpc]\")\n",
    "ax[2].set_xlabel(\"Transverse (x) dimension [cMpc]\")\n",
    "ax[0].set_ylabel(\"Transverse (y) dimension [cMpc]\");"
   ]
  },
  {
   "cell_type": "markdown",
   "metadata": {},
   "source": [
    "Both RSD effects modify the brightness temperature map. In addition, variations in the morphology of the reionized regions can be observed."
   ]
  },
  {
   "cell_type": "markdown",
   "metadata": {},
   "source": [
    "We can also inspect how RSDs modifies the 21-cm signal as a function of redshift."
   ]
  },
  {
   "cell_type": "code",
   "execution_count": null,
   "metadata": {
    "ExecuteTime": {
     "end_time": "2020-02-29T22:25:13.893642Z",
     "start_time": "2020-02-29T22:25:13.639907Z"
    }
   },
   "outputs": [],
   "source": [
    "fig, ax = plt.subplots(3, 1, figsize=(12, 12), constrained_layout=True)\n",
    "plotting.lightcone_sliceplot(lightcone, kind=\"brightness_temp\", ax=ax[0], fig=fig)\n",
    "plotting.lightcone_sliceplot(lightcone_include_dvdr_in_tau21, kind=\"brightness_temp\", ax=ax[1], fig=fig)\n",
    "plotting.lightcone_sliceplot(lightcone_apply_rsds, kind=\"brightness_temp_with_rsds\", ax=ax[2], fig=fig)\n",
    "ax[0].set_title(\"INCLUDE_DVDR_IN_TAU21=False,\\nAPPLY_RSDS=False\")\n",
    "ax[1].set_title(\"INCLUDE_DVDR_IN_TAU21=True,\\nAPPLY_RSDS=False\")\n",
    "ax[2].set_title(\"INCLUDE_DVDR_IN_TAU21=True,\\nAPPLY_RSDS=True\");"
   ]
  },
  {
   "cell_type": "markdown",
   "metadata": {},
   "source": [
    "Here we see for example, how RSDs make \"light blue\" regions (with high value of brightness temperature) at $z=12$ to become bluer (i.e. reducing the brightness temperature in these regions)."
   ]
  },
  {
   "cell_type": "markdown",
   "metadata": {},
   "source": [
    "Interestingly, the effect of RSDs is not as apparent as one would expect at the lowest redshifts, where the peculiar velocities are greater. This is because we were looking on the brightness temperature field which decays once reionization kicks in. However, we could study the effect of RSDs on other fields.\n",
    "Notice that when `APPLY_RSDS=True`, then for every field we requested in our lightconer, there would be a corresponding one in the output lightcone object which has the ending \"_with_rsds\". We already so for example that we have in our final lightcone a field with the name ``brightness_temp_with_rsds``. Because in the definition of our lightconer we requested `brightness_temp` and `density` as lightcone quantities, that means we also have `density_with_rsds`!"
   ]
  },
  {
   "cell_type": "markdown",
   "metadata": {},
   "source": [
    "Below we repeat the same plots as above, but for the density field."
   ]
  },
  {
   "cell_type": "code",
   "execution_count": null,
   "metadata": {},
   "outputs": [],
   "source": [
    "fig, ax = plt.subplots(1, 3, sharex=True, sharey=True, figsize=(12, 16))\n",
    "kw_d = {\n",
    "    \"origin\": \"lower\",\n",
    "    \"extent\": (0, inputs.simulation_options.BOX_LEN, 0, inputs.simulation_options.BOX_LEN),\n",
    "    \"cmap\": \"viridis\",\n",
    "    \"vmin\": -0.5,\n",
    "    \"vmax\": 2.5,\n",
    "}\n",
    "\n",
    "ax[0].imshow(lightcone.lightcones[\"density\"][:, :, 0], **kw_d)\n",
    "ax[0].set_title(\"INCLUDE_DVDR_IN_TAU21=False,\\nAPPLY_RSDS=False\")\n",
    "ax[1].imshow(lightcone_include_dvdr_in_tau21.lightcones[\"density\"][:, :, 0], **kw_d)\n",
    "ax[1].set_title(\"INCLUDE_DVDR_IN_TAU21=True,\\nAPPLY_RSDS=False\")\n",
    "ax[2].imshow(lightcone_apply_rsds.lightcones[\"density_with_rsds\"][:, :, 0], **kw_d)\n",
    "ax[2].set_title(\"INCLUDE_DVDR_IN_TAU21=True,\\nAPPLY_RSDS=True\")\n",
    "\n",
    "ax[0].set_xlabel(\"Transverse (x) dimension [cMpc]\")\n",
    "ax[1].set_xlabel(\"Transverse (x) dimension [cMpc]\")\n",
    "ax[2].set_xlabel(\"Transverse (x) dimension [cMpc]\")\n",
    "ax[0].set_ylabel(\"Transverse (y) dimension [cMpc]\");"
   ]
  },
  {
   "cell_type": "code",
   "execution_count": null,
   "metadata": {},
   "outputs": [],
   "source": [
    "fig, ax = plt.subplots(3, 1, figsize=(12, 12), constrained_layout=True)\n",
    "plotting.lightcone_sliceplot(lightcone, kind=\"density\", ax=ax[0], fig=fig, vmin=-0.5, vmax=2.5)\n",
    "plotting.lightcone_sliceplot(lightcone_include_dvdr_in_tau21, kind=\"density\", ax=ax[1], fig=fig, vmin=-0.5, vmax=2.5)\n",
    "plotting.lightcone_sliceplot(lightcone_apply_rsds, kind=\"density_with_rsds\", ax=ax[2], fig=fig, vmin=-0.5, vmax=2.5)\n",
    "ax[0].set_title(\"INCLUDE_DVDR_IN_TAU21=False,\\nAPPLY_RSDS=False\")\n",
    "ax[1].set_title(\"INCLUDE_DVDR_IN_TAU21=True,\\nAPPLY_RSDS=False\")\n",
    "ax[2].set_title(\"INCLUDE_DVDR_IN_TAU21=True,\\nAPPLY_RSDS=True\");"
   ]
  },
  {
   "cell_type": "markdown",
   "metadata": {},
   "source": [
    "As expected, the density field doesn't change in the configuration in which `INCLUDE_DVDR_IN_TAU21=True` and `APPLY_RSDS=False`, because the former flag is relevant only for the brightness temperature field. Furthermore, we indeed see that RSDs matter mostly at low redshifts."
   ]
  },
  {
   "cell_type": "markdown",
   "metadata": {},
   "source": [
    "## Redshift Space Distortions in Angular Lightcone"
   ]
  },
  {
   "cell_type": "markdown",
   "metadata": {},
   "source": [
    "Let us try to run an angular lightcone with the above inputs specifications."
   ]
  },
  {
   "cell_type": "code",
   "execution_count": null,
   "metadata": {},
   "outputs": [],
   "source": [
    "ang_lcn = p21c.AngularLightconer.like_rectilinear(\n",
    "    simulation_options=inputs.simulation_options,\n",
    "    match_at_z=inputs.node_redshifts[-1]+0.5,\n",
    "    max_redshift=inputs.node_redshifts[0]-0.5,\n",
    "    cosmo=inputs.cosmo_params.cosmo,\n",
    "    quantities=(\"brightness_temp\",\"velocity_z\")\n",
    ")\n",
    "\n",
    "try:\n",
    "    idx, z, coeval, ang_lightcone_with_rsd = p21c.run_lightcone(\n",
    "        lightconer=ang_lcn,\n",
    "        global_quantities=(\"brightness_temp\",),\n",
    "        inputs=inputs.evolve_input_structs(INCLUDE_DVDR_IN_TAU21=True, APPLY_RSDS=True),\n",
    "        cache=cache,\n",
    "        progressbar=True\n",
    "    )\n",
    "except ValueError:\n",
    "    print(\"ValueError: To account for RSDs or velocity corrections in an angular lightcone, you need to set matter_options.KEEP_3D_VELOCITIES=True\")"
   ]
  },
  {
   "cell_type": "markdown",
   "metadata": {},
   "source": [
    "This attempt failed because in angular lightcones we cannot simply have one component of the velocity vector (e.g. the $z$ component, $v_z$) in order to account for RSDs, just as we have in rectilinear lightcones. This is because in angular lightcones different LOSs lie on different angles with respect to the observer, and so we must have the 3 components of the velocity vector in order to compute the magnitude of the vector (which points radially out from/into the center of the box)."
   ]
  },
  {
   "cell_type": "markdown",
   "metadata": {},
   "source": [
    "In order to run angular lightcones with RSDs, we set `KEEP_3D_VELOCITIES=True`."
   ]
  },
  {
   "cell_type": "code",
   "execution_count": null,
   "metadata": {},
   "outputs": [],
   "source": [
    "idx, z, coeval, ang_lightcone_with_rsd = p21c.run_lightcone(\n",
    "    lightconer=ang_lcn,\n",
    "    global_quantities=(\"brightness_temp\",),\n",
    "    inputs=inputs.evolve_input_structs(INCLUDE_DVDR_IN_TAU21=True, APPLY_RSDS=True, KEEP_3D_VELOCITIES=True),\n",
    "    cache=cache,\n",
    "    progressbar=True\n",
    ")"
   ]
  },
  {
   "cell_type": "markdown",
   "metadata": {},
   "source": [
    "The magnitude of the velocity vector (which is not positive by definition, as it can point inward or outward), can be accessed from `los_velocity`. Note this is the same as `velocity_z` in the case of rectilinear lightcone!"
   ]
  },
  {
   "cell_type": "code",
   "execution_count": null,
   "metadata": {},
   "outputs": [],
   "source": [
    "print(ang_lightcone_with_rsd.lightcones.keys())"
   ]
  },
  {
   "cell_type": "markdown",
   "metadata": {},
   "source": [
    "## Redshift Space Distortions with Coeval Boxes"
   ]
  },
  {
   "cell_type": "markdown",
   "metadata": {},
   "source": [
    "RSDs are mostly designed to be applied on lightcone boxes in `21cmFASTv4`. However, just as in `21cmFASTv3`, RSDs can also be applied on coeval boxes, as a post process."
   ]
  },
  {
   "cell_type": "markdown",
   "metadata": {},
   "source": [
    "Let us run a simple coeval box."
   ]
  },
  {
   "cell_type": "code",
   "execution_count": null,
   "metadata": {},
   "outputs": [],
   "source": [
    "coevals = p21c.run_coeval(\n",
    "    inputs=inputs.evolve_input_structs(KEEP_3D_VELOCITIES=True),\n",
    "    out_redshifts=[7,10,12],\n",
    "    cache=cache,\n",
    "    regenerate=True,\n",
    "    progressbar = True\n",
    ")"
   ]
  },
  {
   "cell_type": "markdown",
   "metadata": {},
   "source": [
    "In order to apply RSDs on the coevals, we use the methods `include_dvdr_in_tau21` and `apply_rsds` which correspond to the same flags we used to account for RSDs in lightcone boxes. It is also possible to call functions of the same names from the `rsd` module of `21cmFAST`.\n",
    "Calling these methods consecutively is equivalent to calling `apply_velocity_corrections`. A possible argument for these methods is `periodic`, which determines whether the box should be treated with periodic boundary conditions or not. For coeval boxes the default is `True`, while lightcones are considered to be non periodic."
   ]
  },
  {
   "cell_type": "markdown",
   "metadata": {},
   "source": [
    "Let us check we understand the logic of these methods."
   ]
  },
  {
   "cell_type": "code",
   "execution_count": null,
   "metadata": {},
   "outputs": [],
   "source": [
    "from py21cmfast.rsds import apply_rsds, include_dvdr_in_tau21\n",
    "\n",
    "coeval = coevals[0]\n",
    "\n",
    "# Here we call include_dvdr_in_tau21 and then apply_rsds\n",
    "box1 = apply_rsds(\n",
    "    coeval.include_dvdr_in_tau21(),\n",
    "    los_velocity=coeval.velocity_z,\n",
    "    redshifts=coeval.redshift,\n",
    "    inputs=coeval.inputs,\n",
    "    periodic=True,\n",
    "    n_subcells=1,\n",
    "    )\n",
    "# Here we call apply_rsds and then include_dvdr_in_tau21\n",
    "box2 = include_dvdr_in_tau21(\n",
    "    coeval.apply_rsds(n_subcells=1),\n",
    "    los_velocity=coeval.velocity_z,\n",
    "    redshifts=coeval.redshift,\n",
    "    inputs=coeval.inputs,\n",
    "    periodic=True,\n",
    "    )\n",
    "# Here we just call apply_rsds\n",
    "box3 = coeval.apply_rsds(n_subcells=1)\n",
    "# Here we just call apply_velocity_corrections\n",
    "box4 = coeval.apply_velocity_corrections(n_subcells=1)\n",
    "\n",
    "# Check if the boxes are the same\n",
    "if np.allclose(box1,box2):\n",
    "    print(\"box1 and box2 are the same!\")\n",
    "else:\n",
    "    print(\"box1 and box2 are not the same!\")\n",
    "if np.allclose(box3,box4):\n",
    "    print(\"box3 and box4 are the same!\")\n",
    "else:\n",
    "    print(\"box3 and box4 are not the same!\")\n",
    "if np.allclose(box1,box4):\n",
    "    print(\"box1 and box4 are the same!\")\n",
    "else:\n",
    "    print(\"box1 and box4 are not the same!\")"
   ]
  },
  {
   "cell_type": "markdown",
   "metadata": {},
   "source": [
    "Notice that all these methods can accept an `axis` argument (default is `'z'`), this argument controls which axis should be considered as the LOS axis. If `KEEP_3D_VELOCITIES=True`, we can call these methods for other axes."
   ]
  },
  {
   "cell_type": "code",
   "execution_count": null,
   "metadata": {},
   "outputs": [],
   "source": [
    "box1 = coeval.apply_velocity_corrections(axis='x')\n",
    "box2 = coeval.apply_velocity_corrections(axis='y')\n",
    "box3 = coeval.apply_velocity_corrections(axis='z')\n",
    "\n",
    "# Check if the boxes are the same\n",
    "if np.allclose(box1,box2):\n",
    "    print(\"box1 and box2 are the same!\")\n",
    "else:\n",
    "    print(\"box1 and box2 are not the same!\")\n",
    "if np.allclose(box2,box3):\n",
    "    print(\"box2 and box3 are the same!\")\n",
    "else:\n",
    "    print(\"box2 and box3 are not the same!\")\n",
    "if np.allclose(box1,box3):\n",
    "    print(\"box1 and box3 are the same!\")\n",
    "else:\n",
    "    print(\"box1 and box3 are not the same!\")"
   ]
  },
  {
   "cell_type": "markdown",
   "metadata": {},
   "source": [
    "This shows that with the same coeval information, we can generate different realizations of the brightness temperature field by simply choosing a different LOS axis!"
   ]
  },
  {
   "cell_type": "markdown",
   "metadata": {},
   "source": [
    "Let us now `apply_velocity_corrections` on the three coeval boxes we generated from the last run."
   ]
  },
  {
   "cell_type": "code",
   "execution_count": null,
   "metadata": {},
   "outputs": [],
   "source": [
    "boxes_rsd = []\n",
    "for coeval in coevals:\n",
    "    box_rsd = coeval.apply_velocity_corrections(n_subcells=1)\n",
    "    boxes_rsd.append(box_rsd)"
   ]
  },
  {
   "cell_type": "markdown",
   "metadata": {},
   "source": [
    "Below we plot the surface of the coeval boxes with and without the effect of RSDs."
   ]
  },
  {
   "cell_type": "code",
   "execution_count": null,
   "metadata": {},
   "outputs": [],
   "source": [
    "fig, ax = plt.subplots(2, 3, sharex=True, sharey=True, figsize=(12, 8))\n",
    "\n",
    "for ind, (coeval, box_rsd) in enumerate(zip(coevals, boxes_rsd)):\n",
    "    box = coeval.brightness_temperature.brightness_temp.value\n",
    "    ax[0,ind].imshow(box[:, :, 0], **kw)\n",
    "    ax[1,ind].imshow(box_rsd[:, :, 0], **kw)\n",
    "    ax[0,ind].set_title(f\"z={coeval.redshift}\\nNo RSDs\")\n",
    "    ax[1,ind].set_title(\"With RSDs\")\n",
    "    \n",
    "    ax[1,ind].set_xlabel(\"Transverse (x) dimension [cMpc]\")\n",
    "ax[0,0].set_ylabel(\"Transverse (y) dimension [cMpc]\")\n",
    "ax[1,0].set_ylabel(\"Transverse (y) dimension [cMpc]\");"
   ]
  },
  {
   "cell_type": "markdown",
   "metadata": {},
   "source": [
    "Another parameter that goes into the RSD calculations in coeval boxes is `n_subcells`. This parameter determines into how many subcells each cell  is going to be divided when RSDs are applied: it is the subcells that shift along the LOS, not the cells (unless `n_subcells=1`). Thus, this parameter plays the same role as `N_RSD_STEPS` in `astro_params`, which is relevant only when lightcones are run with `APPLY_RSDS`."
   ]
  },
  {
   "cell_type": "code",
   "execution_count": null,
   "metadata": {},
   "outputs": [],
   "source": [
    "print(f\"Default value of N_RSD_STEPS: {inputs.astro_params.N_RSD_STEPS}\")"
   ]
  },
  {
   "cell_type": "markdown",
   "metadata": {},
   "source": [
    "Below we compare how the box at $z=12$ depends on `n_subcells`."
   ]
  },
  {
   "cell_type": "code",
   "execution_count": null,
   "metadata": {},
   "outputs": [],
   "source": [
    "fig, ax = plt.subplots(1, 3, sharex=True, sharey=True, figsize=(12, 6))\n",
    "\n",
    "n_subcells_list = [1,2,20]\n",
    "for ind, n_subcells in enumerate(n_subcells_list):\n",
    "    box_rsd = coevals[0].apply_velocity_corrections(n_subcells=n_subcells)\n",
    "    ax[ind].imshow(box_rsd[:, :, 0], **kw)\n",
    "    ax[ind].set_title(f\"n_subcells={n_subcells}\")\n",
    "    ax[ind].set_xlabel(\"Transverse (x) dimension [cMpc]\")\n",
    "ax[0].set_ylabel(\"Transverse (y) dimension [cMpc]\");"
   ]
  },
  {
   "cell_type": "markdown",
   "metadata": {},
   "source": [
    "Just like in the case of lightcones, we can also study the effect of RSDs on any field that is stored in the coeval, not just the brightness temperature. Here, the only relevant method is `apply_rsds`, since `include_dvdr_in_tau21` accounts for an effect that is relevant only for the brightness temperature field. The type of the field to consider can be controlled via the `field` argument (default is `\"brightness_temp\"`)."
   ]
  },
  {
   "cell_type": "markdown",
   "metadata": {},
   "source": [
    "Below we compare the effects of RSDs on the density field."
   ]
  },
  {
   "cell_type": "code",
   "execution_count": null,
   "metadata": {},
   "outputs": [],
   "source": [
    "boxes_rsd = []\n",
    "for coeval in coevals:\n",
    "    box_rsd = coeval.apply_rsds(field=\"density\",n_subcells=1)\n",
    "    boxes_rsd.append(box_rsd)\n",
    "\n",
    "fig, ax = plt.subplots(2, 3, sharex=True, sharey=True, figsize=(12, 8))\n",
    "\n",
    "for ind, (coeval, box_rsd) in enumerate(zip(coevals, boxes_rsd)):\n",
    "    box = coeval.density\n",
    "    ax[0,ind].imshow(box[:, :, 0], **kw_d)\n",
    "    ax[1,ind].imshow(box_rsd[:, :, 0], **kw_d)\n",
    "    ax[0,ind].set_title(f\"z={coeval.redshift}\\nNo RSDs\")\n",
    "    ax[1,ind].set_title(\"With RSDs\")\n",
    "    \n",
    "    ax[1,ind].set_xlabel(\"Transverse (x) dimension [cMpc]\")\n",
    "ax[0,0].set_ylabel(\"Transverse (y) dimension [cMpc]\")\n",
    "ax[1,0].set_ylabel(\"Transverse (y) dimension [cMpc]\");"
   ]
  },
  {
   "cell_type": "markdown",
   "metadata": {},
   "source": [
    "The effect of RSDs is more important at lower redshifts because the peculiar velocities are greater due to gravitational instabilities!"
   ]
  },
  {
   "cell_type": "markdown",
   "metadata": {},
   "source": [
    "## Redshift Space Distortions, with spin temperature"
   ]
  },
  {
   "cell_type": "markdown",
   "metadata": {},
   "source": [
    "Previously, we ran the lightcones while setting `USE_TS_FLUCT=False`. This means that the simulation did not evaluate the spin temperature, and instead it used the following simplfied expression for the brightness temperature (see e.g. [Mesinger, Furlanetto and Chen 2010](https://arxiv.org/pdf/1003.3878)),\n",
    "\\begin{equation*}\n",
    "T_{21}=27\\,x_\\mathrm{HI}\\left(1+\\delta\\right)\\left(\\frac{1+z}{10}\\frac{0.15}{\\Omega_m h^2}\\right)^{1/2}\\left(\\frac{\\Omega_b h^2}{0.023}\\right)\\left|1+\\frac{1}{H}\\frac{d\\left(\\mathbf n\\cdot \\mathbf v\\right)}{d\\left(\\mathbf n\\cdot \\mathbf x\\right)}\\right|^{-1}\\,\\mathrm{mK}.\n",
    "\\end{equation*}\n",
    "\n",
    "However, when we set `USE_TS_FLUCT=True`, `21cmFAST` computes the brightness temperature according to\n",
    "\\begin{equation*}\n",
    "T_{21}=\\frac{T_s-T_\\gamma}{1+z}\\left(1-\\mathrm{e}^{-\\tau_{21}}\\right).\n",
    "\\end{equation*}\n",
    "To understand how both expressions are the same, it is important to realize that when `USE_TS_FLUCT=False`, `21cmFAST` assumes that $\\tau_{21}\\ll 1$, thereby we can approximate $1-\\mathrm{e}^{-\\tau_{21}}\\approx\\tau_{21}$ and assume that $T_{21}\\propto\\tau_{21}$. This assumption would yield the same equation as above, but with an additional multiplicative factor of $1-T_\\gamma/T_s$ (since $\\tau_{21}\\propto T_s^{-1}$). Thus, in order to get rid of this factor when `USE_TS_FLUCT=False`, `21cmFAST` assumes in addition that $T_s\\gg T_\\gamma$, an assumption which is valid only at low redshifts, as long as X-ray heating is sufficient enough to heat the gas above the CMB temperature."
   ]
  },
  {
   "cell_type": "markdown",
   "metadata": {},
   "source": [
    "Let us suppose now that in some region in space the velocity gradient is so large that $d\\left(\\mathbf{n}\\cdot\\mathbf{v}\\right)/d\\left(\\mathbf{n}\\cdot\\mathbf{x}\\right)=-H$. This condition corresponds to a physical scenario in which the peculiar velocity of the gas completely cancels the Hubble flow! As a consequence, the 21cm optical depth diverges in this scenario because the emitted 21cm photon from the atom rest frame is immediately absorbed by a neighbour atom (neglecting their thermal velocities) and the medium is absolutely opaque to 21cm emission. When this happens, the observed brightness temperature (in real space!) is $T_{21}=\\left(T_s-T_\\gamma\\right)/(1+z)$.\n",
    "\n",
    "However, we see that we get the incorrect result when we use the `USE_TS_FLUCT=False` formula in this scenario (we get $T_{21}=0$). This is expected since the Taylor approximation breaks when $\\tau_{21}\\to\\infty$. In order to deal with this discrepancy, `21cmFAST` clips the velocity gradient field so it won't get too high values when `USE_TS_FLUCT=False`. The clipping threshold is controlled by the parameter `MAX_DVDR`."
   ]
  },
  {
   "cell_type": "code",
   "execution_count": null,
   "metadata": {},
   "outputs": [],
   "source": [
    "print(f\"Default value of MAX_DVDR: {inputs.astro_params.MAX_DVDR}\")"
   ]
  },
  {
   "cell_type": "markdown",
   "metadata": {},
   "source": [
    "This means that the optical depth when `USE_TS_FLUCT=False` cannot be modified due to peculiar velocities by more than $|1-0.2|^{-1}=1.25$."
   ]
  },
  {
   "cell_type": "markdown",
   "metadata": {},
   "source": [
    "In summary, when `USE_TS_FLUCT=True`, `21cmFAST` **does not** assume that $\\tau_{21}\\ll1$ and **does not** assume $T_s\\gg T_\\gamma$. Because of the relaxation of the of the first assumption, we can no longer say that $T_{21}\\propto\\tau_{21}$. However, since `INCLUDE_DVDR_IN_TAU21=True` modifies the **optical depth** (not the brightness temperature!) with the velocity gradient, we must store $\\tau_{21}$ as an additional quantitiy. Let us see that."
   ]
  },
  {
   "cell_type": "code",
   "execution_count": null,
   "metadata": {},
   "outputs": [],
   "source": [
    "inputs = p21c.InputParameters.from_template(\n",
    "        'simple',\n",
    "        node_redshifts=p21c.wrapper.inputs.get_logspaced_redshifts(\n",
    "            min_redshift=7.0,\n",
    "            z_step_factor=1.02,\n",
    "            max_redshift=35.0,\n",
    "        ),\n",
    "        random_seed=1234,\n",
    "    ).evolve_input_structs(HII_DIM=64, BOX_LEN=128, N_THREADS = 4)\n",
    "\n",
    "lcn = p21c.RectilinearLightconer.between_redshifts(\n",
    "    min_redshift=inputs.node_redshifts[-1]+0.5,\n",
    "    max_redshift=inputs.node_redshifts[0]-0.5,\n",
    "    quantities=(\"brightness_temp\",),\n",
    "    resolution=inputs.simulation_options.cell_size,\n",
    ")\n",
    "\n",
    "# We save some coeval boxes at the following redshifts\n",
    "redshifts = [8,12]\n",
    "output_redshifts = []\n",
    "node_redshifts_array = np.array(inputs.node_redshifts)\n",
    "for redshift in redshifts:\n",
    "    output_redshift = node_redshifts_array[np.argmin(np.abs(redshift - node_redshifts_array))]\n",
    "    output_redshifts.append(output_redshift)\n",
    "\n",
    "gen = p21c.generate_lightcone(\n",
    "    lightconer=lcn,\n",
    "    global_quantities=(\"brightness_temp\",\"tau_21\",\"spin_temperature\"),\n",
    "    inputs=inputs.evolve_input_structs(INCLUDE_DVDR_IN_TAU21=True, APPLY_RSDS=True, USE_TS_FLUCT=True),\n",
    "    cache=cache,\n",
    "    progressbar = True,\n",
    ")\n",
    "\n",
    "coevals = {}\n",
    "for iz, redshift, coeval, lightcone_with_Ts in gen:\n",
    "    if redshift in output_redshifts:\n",
    "        coevals[redshift] = coeval"
   ]
  },
  {
   "cell_type": "markdown",
   "metadata": {},
   "source": [
    "When both `USE_TS_FLUCT` and `APPLY_RSD` are `True`, coeval boxes contain the 21cm optical depth in `tau_21`. As discussed above, the corresponding lightcone of `tau_21` is the quantitiy that is modified by the velocity gradient, not the brightness temperature."
   ]
  },
  {
   "cell_type": "markdown",
   "metadata": {},
   "source": [
    "We plot below the global value of $\\tau_{21}$ as a function of redshift."
   ]
  },
  {
   "cell_type": "code",
   "execution_count": null,
   "metadata": {},
   "outputs": [],
   "source": [
    "fig, ax = plt.subplots(1,1,figsize=(10,5))\n",
    "ax.plot(inputs.node_redshifts,lightcone_with_Ts.global_quantities[\"tau_21\"])\n",
    "ax.set_xlabel('z')\n",
    "ax.set_ylabel('21cm optical depth');"
   ]
  },
  {
   "cell_type": "markdown",
   "metadata": {},
   "source": [
    "Indeed, $\\tau_{21}\\ll1$, which is the reason why the common Taylor approximation is justified, as we show below (except for small differences when the spin temperature reaches its minimum value)."
   ]
  },
  {
   "cell_type": "code",
   "execution_count": null,
   "metadata": {},
   "outputs": [],
   "source": [
    "Tcmb0 = 2.7255 # K\n",
    "redshifts = np.array(inputs.node_redshifts)\n",
    "T_gamma = Tcmb0 * (1. + redshifts)\n",
    "T_s = lightcone_with_Ts.global_quantities[\"spin_temperature\"]\n",
    "tau_21 = lightcone_with_Ts.global_quantities[\"tau_21\"]\n",
    "\n",
    "fig, ax = plt.subplots(1,1,figsize=(10,5))\n",
    "ax.plot(redshifts,(T_s-T_gamma)/(1.+redshifts)*tau_21*1000,label='With Taylor approximation')\n",
    "ax.plot(redshifts,(T_s-T_gamma)/(1.+redshifts)*(1. - np.exp(-tau_21))*1000,label='No Taylor approximation')\n",
    "ax.set_xlabel('z')\n",
    "ax.set_ylabel('Brightness temperature [mK]')\n",
    "ax.legend();"
   ]
  },
  {
   "cell_type": "markdown",
   "metadata": {},
   "source": [
    "Now that we explicitly have the spin temperature, we compare again the lightcones with and without the effects of RSDs."
   ]
  },
  {
   "cell_type": "code",
   "execution_count": null,
   "metadata": {},
   "outputs": [],
   "source": [
    "fig, ax = plt.subplots(2, 1, figsize=(12, 4), constrained_layout=True)\n",
    "plotting.lightcone_sliceplot(lightcone_with_Ts, kind=\"brightness_temp\", ax=ax[0], fig=fig)\n",
    "plotting.lightcone_sliceplot(lightcone_with_Ts, kind=\"brightness_temp_with_rsds\", ax=ax[1], fig=fig)\n",
    "ax[0].set_title(\"INCLUDE_DVDR_IN_TAU21=True,\\nAPPLY_RSDS=False\")\n",
    "ax[1].set_title(\"INCLUDE_DVDR_IN_TAU21=True,\\nAPPLY_RSDS=True\");"
   ]
  },
  {
   "cell_type": "markdown",
   "metadata": {},
   "source": [
    "The comparison can be improved if we inspect the coeval boxes instead."
   ]
  },
  {
   "cell_type": "code",
   "execution_count": null,
   "metadata": {},
   "outputs": [],
   "source": [
    "fig, ax = plt.subplots(2, 2, sharex=True, sharey=True, figsize=(12, 8))\n",
    "\n",
    "for ind, redshift in enumerate(coevals.keys()):\n",
    "    box = coevals[redshift].brightness_temperature.brightness_temp.value\n",
    "    box_rsd = coevals[redshift].apply_velocity_corrections(periodic=True, n_subcells=20)\n",
    "    ax[0,ind].imshow(box[:, :, 0], **kw)\n",
    "    ax[1,ind].imshow(box_rsd[:, :, 0], **kw)\n",
    "    ax[0,ind].set_title(f\"z={redshift}\\nNo RSDs\")\n",
    "    ax[1,ind].set_title(\"With RSDs\")\n",
    "    \n",
    "    ax[1,ind].set_xlabel(\"Transverse (x) dimension [cMpc]\")\n",
    "ax[0,0].set_ylabel(\"Transverse (y) dimension [cMpc]\")\n",
    "ax[1,0].set_ylabel(\"Transverse (y) dimension [cMpc]\");"
   ]
  },
  {
   "cell_type": "markdown",
   "metadata": {},
   "source": [
    "Now we can see more clearly how RSDs modify the 21cm signal at the minimum of the signal, around $z=12$."
   ]
  }
 ],
 "metadata": {
  "kernelspec": {
   "display_name": "V4_ENV",
   "language": "python",
   "name": "python3"
  },
  "language_info": {
   "codemirror_mode": {
    "name": "ipython",
    "version": 3
   },
   "file_extension": ".py",
   "mimetype": "text/x-python",
   "name": "python",
   "nbconvert_exporter": "python",
   "pygments_lexer": "ipython3",
   "version": "3.12.7"
  },
  "latex_envs": {
   "LaTeX_envs_menu_present": true,
   "autoclose": true,
   "autocomplete": true,
   "bibliofile": "biblio.bib",
   "cite_by": "apalike",
   "current_citInitial": 1,
   "eqLabelWithNumbers": true,
   "eqNumInitial": 1,
   "hotkeys": {
    "equation": "Ctrl-E",
    "itemize": "Ctrl-I"
   },
   "labels_anchors": false,
   "latex_user_defs": false,
   "report_style_numbering": false,
   "user_envs_cfg": false
  },
  "toc": {
   "base_numbering": 1,
   "nav_menu": {},
   "number_sections": true,
   "sideBar": true,
   "skip_h1_title": false,
   "title_cell": "Table of Contents",
   "title_sidebar": "Contents",
   "toc_cell": false,
   "toc_position": {},
   "toc_section_display": true,
   "toc_window_display": false
  }
 },
 "nbformat": 4,
 "nbformat_minor": 4
}
