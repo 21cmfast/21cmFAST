{
 "cells": [
  {
   "cell_type": "markdown",
   "metadata": {},
   "source": [
    "### HALO SAMPLING IN 21cmFAST\n",
    "This short notebook will run through a few quick examples to show how the halo sampler works. We Will:\n",
    "- draw halo samples from a density grid, and make sure they match the underlying mass function\n",
    "- draw halo samples from a descendant catalogue, making sure they match both the expected unconditional mass function and respond to any deviations in the descendant catalogue\n",
    "- create HII boxes and lightcones using these sources, seeing the effect of halo samples on reionization and cosmic dawn\n",
    "\n",
    "When the HALO_STOCHASTICITY flag option is used, there are a few differences in the running of a lightcone or coeval box.\n",
    "- At the lowest desired redshift, a limited version of the old halo finder runs the excursion set algorithm to find halos above the mass of the low-resolution grid cell (HII_DIM)\n",
    "- Below this mass, and above some user-defined value (``SimulationOptions.SAMPLER_MIN_MASS``), we sample the conditional mass function in each grid cell to generate a population of halos, and sample their stellar mass and SFR from lognormal distributions\n",
    "- The algorithm then steps backward in time, sampling progenitors using each descendant halo as the condition in the conditional mass function. This repeats until we have the halo catalogs at every timestep we wish to compute the reionization history for.\n",
    "- When the algorithm steps forward in time to calculate ionization histories and spin temperatures, the halo catalogues at the desired redshifts are gridded, and if necessary we add the mean contribution of halos below the sampled mass to each grid cell (by simply integrating the CMF in that cell up to the sampled mass). These halo boxes contain the halo mass density, stellar mass density and star formation rate density which are directly used instead of the overdensity field when calculating the radiative backgrounds."
   ]
  },
  {
   "cell_type": "markdown",
   "metadata": {},
   "source": [
    "#### We import a few packages here for plotting and verification\n",
    "##### For this exercise, we get reference mass functions from the [HMF package](https://github.com/halomod/hmf)"
   ]
  },
  {
   "cell_type": "code",
   "execution_count": null,
   "metadata": {},
   "outputs": [],
   "source": [
    "import numpy as np\n",
    "from matplotlib import cm\n",
    "from matplotlib import pyplot as plt\n",
    "from matplotlib.colors import LogNorm, Normalize\n",
    "\n",
    "import py21cmfast as p21c\n",
    "\n",
    "plt.rcParams[\"figure.figsize\"] = [16, 8]\n",
    "from timeit import default_timer as timer\n",
    "\n",
    "#we use the HMF package (github.com/halomod/hmf) to verify our outputs\n",
    "from hmf import MassFunction\n",
    "from powerbox import get_power"
   ]
  },
  {
   "cell_type": "code",
   "execution_count": null,
   "metadata": {},
   "outputs": [],
   "source": [
    "# We are using a relatively small box for this test\n",
    "inputs = p21c.InputParameters.from_template(\n",
    "    'latest-dhalos',\n",
    "    random_seed=24,\n",
    ").evolve_input_structs(\n",
    "    SAMPLER_MIN_MASS=1e9,\n",
    "    BOX_LEN=100,\n",
    "    DIM=200,\n",
    "    HII_DIM=50,\n",
    "    USE_TS_FLUCT=False,\n",
    "    INHOMO_RECO=False,\n",
    "    HALOMASS_CORRECTION=1.,\n",
    "    AVG_BELOW_SAMPLER=True,\n",
    "    USE_EXP_FILTER=False,\n",
    "    USE_UPPER_STELLAR_TURNOVER=False,\n",
    "    CELL_RECOMB=False,\n",
    "    R_BUBBLE_MAX=15.\n",
    ").clone(\n",
    "    node_redshifts=(8,10)\n",
    ")\n",
    "\n",
    "#set up some histogram parameters for plotting hmfs\n",
    "edges = np.logspace(7, 13, num=64)\n",
    "widths = np.diff(edges)\n",
    "dlnm = np.log(edges[1:]) - np.log(edges[:-1])\n",
    "centres = (edges[:-1] * np.exp(dlnm / 2)).astype(\"f4\")\n",
    "volume = inputs.simulation_options.BOX_LEN**3\n",
    "little_h = inputs.cosmo_params.cosmo.H0.to(\"km s-1 Mpc-1\") / 100\n",
    "\n",
    "mf_pkg_st = MassFunction(\n",
    "    z=inputs.node_redshifts[-1],\n",
    "    Mmin=7,\n",
    "    Mmax=15,\n",
    "    cosmo_model=inputs.cosmo_params.cosmo,\n",
    "    hmf_model=\"ST\",\n",
    "    hmf_params={\"a\": 0.73, \"p\": 0.175, \"A\": 0.353},\n",
    "    transfer_model=\"EH\",\n",
    ")\n",
    "mf_pkg_st2 = MassFunction(\n",
    "    z=inputs.node_redshifts[-2],\n",
    "    Mmin=7,\n",
    "    Mmax=15,\n",
    "    cosmo_model=inputs.cosmo_params.cosmo,\n",
    "    hmf_model=\"ST\",\n",
    "    hmf_params={\"a\": 0.73, \"p\": 0.175, \"A\": 0.353},\n",
    "    transfer_model=\"EH\",\n",
    ")"
   ]
  },
  {
   "cell_type": "code",
   "execution_count": null,
   "metadata": {},
   "outputs": [],
   "source": [
    "# create the initial conditions\n",
    "init_box = p21c.compute_initial_conditions(\n",
    "    inputs=inputs,\n",
    ")"
   ]
  },
  {
   "cell_type": "markdown",
   "metadata": {},
   "source": [
    "#### First, Run a single halo catalogue from the density grid and plot the resulting binned mass function\n",
    "note that we go backward through the node redshifts"
   ]
  },
  {
   "cell_type": "code",
   "execution_count": null,
   "metadata": {},
   "outputs": [],
   "source": [
    "halolist_init = p21c.determine_halo_list(\n",
    "    redshift=inputs.node_redshifts[-1],\n",
    "    initial_conditions=init_box,\n",
    "    inputs=inputs\n",
    ")"
   ]
  },
  {
   "cell_type": "code",
   "execution_count": null,
   "metadata": {},
   "outputs": [],
   "source": [
    "# get the mass function\n",
    "masses = halolist_init.get('halo_masses')\n",
    "hist, _ = np.histogram(masses, edges)\n",
    "mf = hist / volume / dlnm\n",
    "plt.loglog(\n",
    "    mf_pkg_st.m / little_h,\n",
    "    mf_pkg_st.dndlnm * (little_h**3),\n",
    "    color=\"C0\",\n",
    "    linewidth=2,\n",
    "    linestyle=\":\",\n",
    "    label=\"reference HMF\",\n",
    ")\n",
    "plt.loglog(centres, mf, color=\"C0\", label=\"binned sample\")\n",
    "plt.loglog(centres, 1 / volume / dlnm, \"k:\", label=\"one halo in box\")\n",
    "\n",
    "plt.xlim([1e9, 5e12])\n",
    "plt.ylim([1e-7, 1e2])\n",
    "plt.ylabel(\"dNdlnM (Mpc-3)\")\n",
    "plt.xlabel(\"M (Msun)\")\n",
    "plt.legend()\n",
    "plt.show()"
   ]
  },
  {
   "cell_type": "markdown",
   "metadata": {},
   "source": [
    "##### Aside from very high mass halos where shot noise is important, Samples follow the expected mass function very closely"
   ]
  },
  {
   "cell_type": "markdown",
   "metadata": {},
   "source": [
    "#### We can also sample from a previously calculated (descendant) halo list by specifying a new redshift"
   ]
  },
  {
   "cell_type": "code",
   "execution_count": null,
   "metadata": {},
   "outputs": [],
   "source": [
    "halolist_next = p21c.determine_halo_list(\n",
    "    redshift=inputs.node_redshifts[-2],\n",
    "    initial_conditions=init_box,\n",
    "    descendant_halos=halolist_init\n",
    ")\n",
    "# get the mass function\n",
    "masses = halolist_next.get('halo_masses')\n",
    "hist, _ = np.histogram(masses, edges)\n",
    "mf2 = hist / volume / dlnm\n",
    "plt.loglog(\n",
    "    mf_pkg_st.m / little_h,\n",
    "    mf_pkg_st.dndlnm * (little_h**3),\n",
    "    color=\"C0\",\n",
    "    linewidth=2,\n",
    "    linestyle=\":\",\n",
    "    label=f\"reference HMF z={halolist_init.redshift}\",\n",
    ")\n",
    "plt.loglog(centres, mf, color=\"C0\", label=f\"binned sample z={halolist_init.redshift}\")\n",
    "\n",
    "plt.loglog(\n",
    "    mf_pkg_st2.m / little_h,\n",
    "    mf_pkg_st2.dndlnm * (little_h**3),\n",
    "    color=\"C1\",\n",
    "    linewidth=2,\n",
    "    linestyle=\":\",\n",
    "    label=f\"reference HMF z={halolist_next.redshift}\",\n",
    ")\n",
    "plt.loglog(centres, mf2, color=\"C1\", label=f\"binned sample z={halolist_next.redshift}\")\n",
    "plt.loglog(centres, 1 / volume / dlnm, \"k:\", label=\"one halo in box\")\n",
    "\n",
    "plt.xlim([1e7, 5e12])\n",
    "plt.ylim([1e-7, 1e2])\n",
    "plt.ylabel(\"dNdlnM (Mpc-3)\")\n",
    "plt.xlabel(\"M (Msun)\")\n",
    "plt.legend()\n",
    "plt.show()"
   ]
  },
  {
   "cell_type": "markdown",
   "metadata": {},
   "source": [
    "##### Results for the next redshift follow the mass function at z=10, even through they are not explicitly given this mass function"
   ]
  },
  {
   "cell_type": "markdown",
   "metadata": {},
   "source": [
    "#### If we modify the descendant halo list, we can see how descendant halos effect the progenitor population\n",
    "In this case, we add 1000 halos of mass 1e11 to see what happens to the progenitor population"
   ]
  },
  {
   "cell_type": "code",
   "execution_count": null,
   "metadata": {},
   "outputs": [],
   "source": [
    "#Adjusting values of an OutputStruct is not typically done, but we need to for this demonstration\n",
    "halolist_edit = p21c.HaloField.new(redshift=halolist_init.redshift,inputs=inputs)\n",
    "edited_mass = halolist_init.get('halo_masses')\n",
    "edited_mass[halolist_init.n_halos : halolist_init.n_halos + 1000] = 1e11\n",
    "halolist_edit.n_halos = halolist_init.n_halos + 1000\n",
    "halolist_edit.halo_masses = halolist_init.halo_masses.with_value(edited_mass)\n",
    "halolist_edit.halo_coords = halolist_init.halo_coords\n",
    "halolist_edit.star_rng = halolist_init.star_rng\n",
    "halolist_edit.sfr_rng = halolist_init.sfr_rng\n",
    "halolist_edit.xray_rng = halolist_init.xray_rng\n",
    "\n",
    "halolist_next2 = p21c.determine_halo_list(\n",
    "    redshift=halolist_next.redshift,\n",
    "    descendant_halos=halolist_edit,\n",
    "    initial_conditions=init_box,\n",
    "    regenerate=True\n",
    ")"
   ]
  },
  {
   "cell_type": "code",
   "execution_count": null,
   "metadata": {},
   "outputs": [],
   "source": [
    "# get the mass functions\n",
    "masses = halolist_next2.get('halo_masses')\n",
    "hist, _ = np.histogram(masses, edges)\n",
    "mf3 = hist / volume / dlnm\n",
    "\n",
    "masses = halolist_edit.get('halo_masses')\n",
    "hist, _ = np.histogram(masses, edges)\n",
    "mf4 = hist / volume / dlnm\n",
    "\n",
    "plt.loglog(\n",
    "    mf_pkg_st.m / little_h,\n",
    "    mf_pkg_st.dndlnm * (little_h**3),\n",
    "    color=\"C0\",\n",
    "    linewidth=2,\n",
    "    linestyle=\":\",\n",
    "    label=f\"reference HMF z={halolist_init.redshift}\",\n",
    ")\n",
    "plt.loglog(\n",
    "    mf_pkg_st2.m / little_h,\n",
    "    mf_pkg_st2.dndlnm * (little_h**3),\n",
    "    color=\"C1\",\n",
    "    linewidth=2,\n",
    "    linestyle=\":\",\n",
    "    label=f\"reference HMF z={halolist_next.redshift}\",\n",
    ")\n",
    "\n",
    "plt.loglog(centres, mf, color=\"C0\", label=f\"binned sample z={halolist_init.redshift}\")\n",
    "plt.loglog(\n",
    "    centres, mf4, color=\"C3\", linestyle=\"--\", label=f\"altered sample z={halolist_init.redshift}\"\n",
    ")\n",
    "\n",
    "\n",
    "plt.loglog(centres, mf2, color=\"C1\", label=f\"binned sample z={halolist_next.redshift}\")\n",
    "\n",
    "plt.loglog(\n",
    "    centres,\n",
    "    mf3,\n",
    "    color=\"C2\",\n",
    "    linestyle=\"--\",\n",
    "    label=f\"altered sample z={halolist_next.redshift}\",\n",
    ")\n",
    "\n",
    "plt.xlim([1e7, 5e12])\n",
    "plt.ylim([1e-7, 1e2])\n",
    "plt.ylabel(\"dNdlnM (Mpc-3)\")\n",
    "plt.xlabel(\"M (Msun)\")\n",
    "plt.legend()\n",
    "plt.show()"
   ]
  },
  {
   "cell_type": "markdown",
   "metadata": {},
   "source": [
    "##### The alteration in the descendant catalogue (red dashed line) is reflected in its progenitors (green dashed line)\n",
    "We see an increase in higher mass halos just underneath the added descendant mass of 1e11"
   ]
  },
  {
   "cell_type": "markdown",
   "metadata": {},
   "source": [
    "#### HALO CATALOGUES CAN BE PERTURBED AND GRIDDED\n",
    "- When we perturb the halo list, it moves from the Lagrangian initial condition coordinates onto the Eulerian coordinates at the desired redshift\n",
    "- the HaloBox class stores the gridded quantities (halo mass, stellar mass, star formation rate) of the halo catalogues, which are used for calculating the radiative backgrounds"
   ]
  },
  {
   "cell_type": "code",
   "execution_count": null,
   "metadata": {},
   "outputs": [],
   "source": [
    "# This function moves the halos from the initial condition grid onto the real grid at the given redshift\n",
    "pt_halos = p21c.perturb_halo_list(\n",
    "    halo_field=halolist_init, initial_conditions=init_box\n",
    ")"
   ]
  },
  {
   "cell_type": "code",
   "execution_count": null,
   "metadata": {},
   "outputs": [],
   "source": [
    "# This function sums halo proprties within each cell to create grids of halo mass, stellar mass, star formation rate and more\n",
    "\n",
    "pt_field = p21c.perturb_field(\n",
    "    initial_conditions=init_box,\n",
    "    redshift=pt_halos.redshift,\n",
    ")\n",
    "halo_box = p21c.compute_halo_grid(perturbed_field=pt_field, perturbed_halo_list=pt_halos, initial_conditions=init_box)"
   ]
  },
  {
   "cell_type": "code",
   "execution_count": null,
   "metadata": {},
   "outputs": [],
   "source": [
    "plt.figure()\n",
    "plt.imshow(\n",
    "    halo_box.get('halo_mass')[..., 0], cmap=cm.Purples, norm=LogNorm(vmin=1e8, vmax=1e11)\n",
    ")\n",
    "plt.title(\"Halo Mass\")\n",
    "cb = plt.colorbar()\n",
    "cb.ax.set_title(\"M_sun\")\n",
    "plt.show()\n",
    "plt.imshow(halo_box.get('halo_stars')[..., 0], cmap=cm.Reds, norm=LogNorm(vmin=1e6, vmax=1e10))\n",
    "plt.title(\"Stellar Mass\")\n",
    "cb = plt.colorbar()\n",
    "cb.ax.set_title(\"M_sun\")\n",
    "plt.show()\n",
    "plt.imshow(\n",
    "    halo_box.get('halo_sfr')[..., 0], cmap=cm.Blues, norm=LogNorm(vmin=1e-11, vmax=1e-8)\n",
    ")\n",
    "plt.title(\"SFR\")\n",
    "cb = plt.colorbar()\n",
    "cb.ax.set_title(\"M_sun yr-1\")\n",
    "plt.show()"
   ]
  },
  {
   "cell_type": "markdown",
   "metadata": {},
   "source": [
    "We expect halo mass, stellar mass and SFR to follow a very similar distribution, as all are dependent on the density field"
   ]
  },
  {
   "cell_type": "markdown",
   "metadata": {},
   "source": [
    "#### These grids can be used instead of the density field when calculating HII maps or spin temperatures"
   ]
  },
  {
   "cell_type": "code",
   "execution_count": null,
   "metadata": {},
   "outputs": [],
   "source": [
    "# passing a halo box into this function (with the USE_HALO_FIELD flag) will\n",
    "# use the gridded halos instead of the density field to determine ionizing radiation\n",
    "inputs_nosampler = inputs.evolve_input_structs(\n",
    "    HALO_STOCHASTICITY=False,\n",
    "    USE_HALO_FIELD=False,\n",
    ")\n",
    "inputs_nosampler2 = p21c.InputParameters.from_template(\n",
    "    'simple',\n",
    "    random_seed=inputs.random_seed,\n",
    "    node_redshifts=inputs.node_redshifts,\n",
    ").evolve_input_structs(HII_DIM=50,DIM=200,BOX_LEN=100,SAMPLER_MIN_MASS=1e9,HII_FILTER='spherical-tophat',HALOMASS_CORRECTION=1.)\n",
    "print({k:(x,y) for (k,x),(i,y) in zip(inputs_nosampler.cosmo_params.cdict.items(), inputs_nosampler2.cosmo_params.cdict.items()) if x!=y})\n",
    "print({k:(x,y) for (k,x),(i,y) in zip(inputs_nosampler.simulation_options.cdict.items(), inputs_nosampler2.simulation_options.cdict.items()) if x!=y})\n",
    "print({k:(x,y) for (k,x),(i,y) in zip(inputs_nosampler.matter_options.cdict.items(), inputs_nosampler2.matter_options.cdict.items()) if x!=y})\n",
    "print({k:(x,y) for (k,x),(i,y) in zip(inputs_nosampler.astro_params.cdict.items(), inputs_nosampler2.astro_params.cdict.items()) if x!=y})\n",
    "print({k:(x,y) for (k,x),(i,y) in zip(inputs_nosampler.astro_options.cdict.items(), inputs_nosampler2.astro_options.cdict.items()) if x!=y})\n",
    "inputs_nosampler = inputs_nosampler2\n",
    "ic_nosampler = p21c.compute_initial_conditions(\n",
    "    inputs=inputs_nosampler,\n",
    ")\n",
    "pt_field_nosampler = p21c.perturb_field(\n",
    "    redshift=halo_box.redshift,\n",
    "    initial_conditions=ic_nosampler,\n",
    ")\n",
    "ionbox_nosampler = p21c.compute_ionization_field(\n",
    "    initial_conditions=ic_nosampler,\n",
    "    perturbed_field=pt_field_nosampler,\n",
    "    inputs=inputs_nosampler,\n",
    ")\n",
    "ionbox = p21c.compute_ionization_field(\n",
    "    initial_conditions=init_box,\n",
    "    perturbed_field=pt_field,\n",
    "    halobox=halo_box,\n",
    ")\n",
    "\n",
    "\n",
    "plt.figure()\n",
    "plt.imshow(ionbox.get('xH_box')[..., 0], cmap=cm.viridis, norm=Normalize(vmin=0, vmax=1))\n",
    "plt.title(\"xH Fraction Sampler\")\n",
    "plt.colorbar()\n",
    "plt.show()\n",
    "plt.imshow(\n",
    "    ionbox_nosampler.get('xH_box')[..., 0], cmap=cm.viridis, norm=Normalize(vmin=0, vmax=1)\n",
    ")\n",
    "plt.title(\"xH Fraction Default\")\n",
    "plt.colorbar()\n",
    "plt.show()"
   ]
  },
  {
   "cell_type": "markdown",
   "metadata": {},
   "source": [
    "The ionisation field is much noisier on small scales due to much larger variation in stellar mass. but follows the same distribution"
   ]
  },
  {
   "cell_type": "markdown",
   "metadata": {},
   "source": [
    "#### Full lightcone run with / without stochastic halos (takes ~2 minutes to run through fully)"
   ]
  },
  {
   "cell_type": "code",
   "execution_count": null,
   "metadata": {},
   "outputs": [],
   "source": [
    "from tempfile import mkdtemp\n",
    "cache = p21c.OutputCache(mkdtemp())\n",
    "cacheconfig = p21c.CacheConfig.last_step_only()\n",
    "inputs = inputs.clone(node_redshifts=p21c.get_logspaced_redshifts(min_redshift=6.,max_redshift=18.,z_step_factor=1.1))\n",
    "inputs_nosampler = inputs_nosampler.clone(node_redshifts=p21c.get_logspaced_redshifts(min_redshift=6.,max_redshift=18.,z_step_factor=1.1))\n",
    "lightcone_quantities = [\"density\", \"xH_box\", \"brightness_temp\"]\n",
    "\n",
    "lcn = p21c.RectilinearLightconer.with_equal_cdist_slices(\n",
    "        min_redshift=min(inputs.node_redshifts),\n",
    "        max_redshift=max(inputs.node_redshifts),\n",
    "        quantities=lightcone_quantities,\n",
    "        resolution=inputs.simulation_options.cell_size,\n",
    "    )\n",
    "\n",
    "_,_,_,lc = p21c.run_lightcone(\n",
    "    lightconer=lcn,\n",
    "    inputs=inputs,\n",
    "    global_quantities=lightcone_quantities,\n",
    "    cache=cache,\n",
    "    write=cacheconfig,\n",
    ")\n",
    "\n",
    "_,_,_,lc_nosampler = p21c.run_lightcone(\n",
    "    lightconer=lcn,\n",
    "    inputs=inputs_nosampler,\n",
    "    global_quantities=lightcone_quantities,\n",
    "    cache=cache,\n",
    "    write=cacheconfig,\n",
    ")"
   ]
  },
  {
   "cell_type": "code",
   "execution_count": null,
   "metadata": {},
   "outputs": [],
   "source": [
    "for l, title in zip([lc, lc_nosampler], [\"SAMPLER\", \"DEFAULT\"], strict=True):\n",
    "    plot_shape = l.shape[::-1]\n",
    "    fig, ax = plt.subplots(\n",
    "        1,\n",
    "        1,\n",
    "        figsize=(\n",
    "            plot_shape[0] * 0.03 + 0.5,\n",
    "            plot_shape[1] * 0.06 + 1.0,\n",
    "        ),\n",
    "    )\n",
    "\n",
    "    p21c.plotting.lightcone_sliceplot(\n",
    "        l,\n",
    "        kind='brightness_temp',\n",
    "        zticks=\"redshift\",\n",
    "        aspect=\"auto\",\n",
    "        fig=fig,\n",
    "        ax=ax,\n",
    "        log=False,\n",
    "        vertical=False,\n",
    "        cbar_horizontal=False,\n",
    "        slice_index=24,\n",
    "    )\n",
    "    ax.set_title(title)\n",
    "    plt.show()"
   ]
  },
  {
   "cell_type": "markdown",
   "metadata": {},
   "source": [
    "#### Examining the global brightness temperature and neutral fraction\n",
    "The global results should be very similar, However differences can occur due to the varying occurrence of rare objects at high redshift, especially at smaller box sizes. It should also be noted that the mean fixing (in both ionizing emissivity and star formation rate density) which occurs in default 21cmFAST is not possible with the halo model, since it would cause the radiative source terms to be incompatible with the halo catalogs"
   ]
  },
  {
   "cell_type": "code",
   "execution_count": null,
   "metadata": {},
   "outputs": [],
   "source": [
    "plt.figure()\n",
    "plt.plot(lc.inputs.node_redshifts, lc.global_quantities['brightness_temp'])\n",
    "plt.plot(lc_nosampler.inputs.node_redshifts, lc_nosampler.global_quantities['brightness_temp'])\n",
    "plt.xlabel(\"redshift\")\n",
    "plt.ylabel(\"dTb (mK)\")\n",
    "plt.show()\n",
    "\n",
    "plt.figure()\n",
    "plt.plot(lc.inputs.node_redshifts, lc.global_quantities['xH_box'])\n",
    "plt.plot(lc_nosampler.inputs.node_redshifts, lc_nosampler.global_quantities['xH_box'])\n",
    "plt.xlabel(\"redshift\")\n",
    "plt.ylabel(\"Neutral Fraction\")\n",
    "plt.show()"
   ]
  },
  {
   "cell_type": "markdown",
   "metadata": {},
   "source": [
    "#### Examining the 1D power spectra around z=12\n",
    "We should see an increase variation, especially at small scales due to the shot-noise induced by halo fluctuations"
   ]
  },
  {
   "cell_type": "code",
   "execution_count": null,
   "metadata": {},
   "outputs": [],
   "source": [
    "z_plot = 12\n",
    "z_idx = np.argmin(np.fabs(lc.lightcone_redshifts - z_plot))\n",
    "box_len = lc.simulation_options.BOX_LEN\n",
    "grid_dim = lc.simulation_options.HII_DIM\n",
    "\n",
    "# select the chunk we want to make the power spectrum from\n",
    "lc_chunk = lc.lightcones['brightness_temp'][\n",
    "    ..., z_idx - int(grid_dim / 2) : z_idx + int(grid_dim / 2)\n",
    "]\n",
    "\n",
    "# subtract the means in each slice\n",
    "lc_chunk = lc_chunk - lc_chunk.mean(axis=(0, 1))[None, None, :]\n",
    "chunk_dim = np.array(lc_chunk.shape) * box_len / grid_dim\n",
    "\n",
    "# get the power using powerbox\n",
    "p, k = get_power(lc_chunk, boxlength=chunk_dim)\n",
    "\n",
    "lc_chunk_nosampler = lc_nosampler.lightcones['brightness_temp'][\n",
    "    ..., z_idx - int(grid_dim / 2) : z_idx + int(grid_dim / 2)\n",
    "]\n",
    "lc_chunk_nosampler = (\n",
    "    lc_chunk_nosampler - lc_chunk_nosampler.mean(axis=(0, 1))[None, None, :]\n",
    ")\n",
    "p2, k2 = get_power(lc_chunk_nosampler, boxlength=chunk_dim)\n",
    "\n",
    "plt.figure()\n",
    "plt.loglog(k, p * k**3 / (np.pi * 2))\n",
    "plt.loglog(k2, p2 * k2**3 / (np.pi * 2))\n",
    "plt.xlabel(\"k (Mpc-1)\")\n",
    "plt.ylabel(\"Mean subtracted Delta_21 (mK^2)\")\n",
    "plt.show()"
   ]
  }
 ],
 "metadata": {
  "kernelspec": {
   "display_name": "21cmfast",
   "language": "python",
   "name": "python3"
  },
  "language_info": {
   "codemirror_mode": {
    "name": "ipython",
    "version": 3
   },
   "file_extension": ".py",
   "mimetype": "text/x-python",
   "name": "python",
   "nbconvert_exporter": "python",
   "pygments_lexer": "ipython3",
   "version": "3.13.0"
  }
 },
 "nbformat": 4,
 "nbformat_minor": 4
}
