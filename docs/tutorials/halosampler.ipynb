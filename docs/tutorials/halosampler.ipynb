{
 "cells": [
  {
   "cell_type": "markdown",
   "metadata": {},
   "source": [
    "### HALO SAMPLING IN 21cmFAST\n",
    "This short notebook will run through a few quick examples to show how the halo sampler works. We Will:\n",
    "- draw halo samples from a density grid, and make sure they match the underlying mass function\n",
    "- draw halo samples from a descendant catalogue, making sure they match both the expected unconditional mass function and respond to any deviations in the descendant catalogue\n",
    "- create HII boxes and lightcones using these sources, seeing the effect of halo samples on reionization and cosmic dawn"
   ]
  },
  {
   "cell_type": "markdown",
   "metadata": {},
   "source": [
    "#### We import a few packages here for plotting and verification"
   ]
  },
  {
   "cell_type": "code",
   "execution_count": null,
   "metadata": {},
   "outputs": [],
   "source": [
    "import numpy as np\n",
    "\n",
    "import py21cmfast as p21c\n",
    "from py21cmfast import plotting\n",
    "from py21cmfast import cache_tools\n",
    "from py21cmfast.c_21cmfast import ffi, lib\n",
    "\n",
    "from matplotlib import gridspec\n",
    "from matplotlib.lines import Line2D\n",
    "from matplotlib import pyplot as plt\n",
    "from matplotlib import cm\n",
    "from matplotlib.colors import Normalize,LogNorm\n",
    "plt.rcParams['figure.figsize'] = [16, 8]\n",
    "\n",
    "from hmf.mass_function import FittingFunction, PS\n",
    "from hmf.halos import MassDefinition\n",
    "from hmf import MassFunction\n",
    "\n",
    "from timeit import default_timer as timer\n",
    "from datetime import timedelta\n",
    "from copy import deepcopy\n",
    "from powerbox import get_power"
   ]
  },
  {
   "cell_type": "markdown",
   "metadata": {},
   "source": [
    "#### For this exercise, we get reference mass functions from the [HMF package](https://github.com/halomod/hmf)"
   ]
  },
  {
   "cell_type": "code",
   "execution_count": null,
   "metadata": {},
   "outputs": [],
   "source": [
    "#We are using a relatively small box for this test\n",
    "cosmo_params = p21c.CosmoParams()\n",
    "user_params = p21c.UserParams(HII_DIM=50,BOX_LEN=100,DIM=200,USE_INTERPOLATION_TABLES=True,N_THREADS=1,HMF=0)\n",
    "astro_params = p21c.AstroParams()\n",
    "#To use the halo catalogues, we activate USE_HALO_FIELD\n",
    "#To use the sampler (as opposed to the excursion set halo finder) we activate HALO_STOCHASTICITY\n",
    "flag_options = p21c.FlagOptions(USE_HALO_FIELD=True,HALO_STOCHASTICITY=True,USE_MASS_DEPENDENT_ZETA=True)\n",
    "\n",
    "#Results are better for the halo finder using the top-hat filter for reionisation\n",
    "p21c.global_params.HII_FILTER=0\n",
    "\n",
    "redshift = 8\n",
    "redshift_update = 10\n",
    "edges = np.logspace(7,13,num=64)\n",
    "widths = np.diff(edges)\n",
    "dlnm = np.log(edges[1:]) - np.log(edges[:-1])\n",
    "centres = (edges[:-1] * np.exp(dlnm/2)).astype('f4')\n",
    "volume = user_params.BOX_LEN**3\n",
    "little_h = cosmo_params.cosmo.H0.to('km s-1 Mpc-1') / 100\n",
    "random_seed = 24\n",
    "    \n",
    "mf_pkg_ps = MassFunction(z=redshift, Mmin=7, Mmax=15, cosmo_model=cosmo_params.cosmo, hmf_model=\"PS\", transfer_model='EH')\n",
    "mf_pkg_ps2 = MassFunction(z=redshift_update, Mmin=7, Mmax=15, cosmo_model=cosmo_params.cosmo, hmf_model=\"PS\", transfer_model='EH')"
   ]
  },
  {
   "cell_type": "code",
   "execution_count": null,
   "metadata": {},
   "outputs": [],
   "source": [
    "#create the initial conditions\n",
    "init_box = p21c.initial_conditions(user_params=user_params,\n",
    "                                    cosmo_params=cosmo_params,\n",
    "                                    random_seed=random_seed)"
   ]
  },
  {
   "cell_type": "markdown",
   "metadata": {},
   "source": [
    "#### First, Run a single halo catalogue from the density grid and plot the resulting binned mass function"
   ]
  },
  {
   "cell_type": "code",
   "execution_count": null,
   "metadata": {},
   "outputs": [],
   "source": [
    "halolist_init = p21c.determine_halo_list(redshift=redshift,\n",
    "                                         init_boxes=init_box,\n",
    "                                         user_params=user_params,\n",
    "                                         cosmo_params=cosmo_params,\n",
    "                                         astro_params=astro_params,\n",
    "                                         flag_options=flag_options,\n",
    "                                         random_seed=random_seed)"
   ]
  },
  {
   "cell_type": "code",
   "execution_count": null,
   "metadata": {},
   "outputs": [],
   "source": [
    "#get the mass function\n",
    "masses = halolist_init.halo_masses\n",
    "hist,_ = np.histogram(masses,edges)\n",
    "mf = hist / volume / dlnm\n",
    "plt.loglog(mf_pkg_ps.m/little_h,mf_pkg_ps.dndlnm*(little_h**3),color='C0',linewidth=2,linestyle=':',label='reference HMF')\n",
    "plt.loglog(centres,mf,color='C0',label='binned sample')\n",
    "plt.loglog(centres,1/volume/dlnm,'k:',label='one halo in box')\n",
    "\n",
    "plt.xlim([1e7,5e12])\n",
    "plt.ylim([1e-7,1e2])\n",
    "plt.ylabel('dNdlnM (Mpc-3)')\n",
    "plt.xlabel('M (Msun)')\n",
    "plt.legend()\n",
    "plt.show()"
   ]
  },
  {
   "cell_type": "markdown",
   "metadata": {},
   "source": [
    "##### Aside from very high mass halos (This is the excursion set model acting above the cell mass) Samples follow the expected mass function very closely"
   ]
  },
  {
   "cell_type": "markdown",
   "metadata": {},
   "source": [
    "#### We can also sample from a previously calculated (descendant) halo list by specifying a new redshift"
   ]
  },
  {
   "cell_type": "code",
   "execution_count": null,
   "metadata": {},
   "outputs": [],
   "source": [
    "halolist_next = p21c.determine_halo_list(redshift=redshift_update,\n",
    "                                         init_boxes=init_box,\n",
    "                                         halos_desc=halolist_init)\n",
    "#get the mass function\n",
    "masses = halolist_next.halo_masses\n",
    "hist,_ = np.histogram(masses,edges)\n",
    "mf2 = hist / volume / dlnm\n",
    "plt.loglog(mf_pkg_ps.m/little_h,mf_pkg_ps.dndlnm*(little_h**3),color='C0',linewidth=2,linestyle=':',label=f'reference HMF z={redshift}')\n",
    "plt.loglog(centres,mf,color='C0',label=f'binned sample z={redshift}')\n",
    "\n",
    "plt.loglog(mf_pkg_ps2.m/little_h,mf_pkg_ps2.dndlnm*(little_h**3),color='C1',linewidth=2,linestyle=':',label=f'reference HMF z={redshift_update}')\n",
    "plt.loglog(centres,mf2,color='C1',label=f'binned sample z={redshift_update}')\n",
    "plt.loglog(centres,1/volume/dlnm,'k:',label='one halo in box')\n",
    "\n",
    "plt.xlim([1e7,5e12])\n",
    "plt.ylim([1e-7,1e2])\n",
    "plt.ylabel('dNdlnM (Mpc-3)')\n",
    "plt.xlabel('M (Msun)')\n",
    "plt.legend()\n",
    "plt.show()"
   ]
  },
  {
   "cell_type": "markdown",
   "metadata": {},
   "source": [
    "##### Results for the next redshift follow the mass function at z=10, even through they are not explicitly given this mass function"
   ]
  },
  {
   "cell_type": "markdown",
   "metadata": {},
   "source": [
    "#### If we modify the descendant halo list, we can see how descendant halos effect the progenitor population\n",
    "In this case, we add 1000 halos of mass 1e11 to see what happens to the progenitor population"
   ]
  },
  {
   "cell_type": "code",
   "execution_count": null,
   "metadata": {},
   "outputs": [],
   "source": [
    "halolist_edit = deepcopy(halolist_init)\n",
    "\n",
    "#add a bunch of large halos (at 10^11 solar) to the first catalogue\n",
    "halomass_edit = halolist_edit.halo_masses\n",
    "halomass_edit[halolist_edit.n_halos:halolist_edit.n_halos+1000] = 1e11\n",
    "setattr(halolist_edit,'halo_masses',halomass_edit)\n",
    "setattr(halolist_edit,'n_halos',halolist_edit.n_halos + 1000)\n",
    "\n",
    "#call to pass memory to c\n",
    "halolist_edit()\n",
    "\n",
    "#the redshift difference is just a hack so it doesn't read the cache, this shouldn't effect the results\n",
    "halolist_next2 = p21c.determine_halo_list(redshift=redshift_update*1.001,\n",
    "                                         halos_desc=halolist_edit,\n",
    "                                         init_boxes=init_box,)"
   ]
  },
  {
   "cell_type": "code",
   "execution_count": null,
   "metadata": {},
   "outputs": [],
   "source": [
    "#get the mass functions\n",
    "masses = halolist_next2.halo_masses\n",
    "hist,_ = np.histogram(masses,edges)\n",
    "mf3 = hist / volume / dlnm\n",
    "\n",
    "masses = halolist_edit.halo_masses\n",
    "hist,_ = np.histogram(masses,edges)\n",
    "mf4 = hist / volume / dlnm\n",
    "\n",
    "plt.loglog(mf_pkg_ps.m/little_h,mf_pkg_ps.dndlnm*(little_h**3),color='C0',linewidth=2,linestyle=':',label=f'reference HMF z={redshift}')\n",
    "\n",
    "plt.loglog(centres,mf,color='C0',label=f'binned sample z={redshift}')\n",
    "plt.loglog(centres,mf4,color='C3',linestyle='--',label=f'altered sample z={redshift}')\n",
    "\n",
    "\n",
    "plt.loglog(mf_pkg_ps2.m/little_h,mf_pkg_ps2.dndlnm*(little_h**3),color='C1',linewidth=2,linestyle=':',label=f'reference HMF z={redshift_update}')\n",
    "plt.loglog(centres,mf2,color='C1',label=f'binned sample z={redshift_update}')\n",
    "\n",
    "plt.loglog(centres,mf3,color='C2',linestyle='--',label=f'altered sample z={redshift_update}')\n",
    "\n",
    "plt.xlim([1e7,5e12])\n",
    "plt.ylim([1e-7,1e2])\n",
    "plt.ylabel('dNdlnM (Mpc-3)')\n",
    "plt.xlabel('M (Msun)')\n",
    "plt.legend()\n",
    "plt.show()"
   ]
  },
  {
   "cell_type": "markdown",
   "metadata": {},
   "source": [
    "##### The alteration in the descendant catalogue (red dashed line) is reflected in its progenitors (green dashed line)\n",
    "We see an increase in higher mass halos just underneath the added descendant mass of 1e11"
   ]
  },
  {
   "cell_type": "markdown",
   "metadata": {},
   "source": [
    "#### HALO CATALOGUES CAN BE PERTURBED AND GRIDDED"
   ]
  },
  {
   "cell_type": "code",
   "execution_count": null,
   "metadata": {},
   "outputs": [],
   "source": [
    "#This function moves the halos from the initial condition grid onto the real grid at the given redshift\n",
    "pt_halos = p21c.perturb_halo_list(redshift=redshift,halo_field=halolist_init,init_boxes=init_box)"
   ]
  },
  {
   "cell_type": "code",
   "execution_count": null,
   "metadata": {},
   "outputs": [],
   "source": [
    "#This function sums halo proprties within each cell to create grids of halo mass, stellar mass, star formation rate and more\n",
    "halo_box = p21c.halo_box(redshift=redshift,pt_halos=pt_halos,init_boxes=init_box)"
   ]
  },
  {
   "cell_type": "code",
   "execution_count": null,
   "metadata": {},
   "outputs": [],
   "source": [
    "plt.figure()\n",
    "plt.imshow(halo_box.halo_mass[...,0],cmap=cm.Purples,norm=LogNorm(vmin=1e8,vmax=1e11))\n",
    "plt.title('Halo Mass')\n",
    "cb = plt.colorbar()\n",
    "cb.ax.set_title('M_sun')\n",
    "plt.show()\n",
    "plt.imshow(halo_box.halo_stars[...,0],cmap=cm.Reds,norm=LogNorm(vmin=1e6,vmax=1e10))\n",
    "plt.title('Stellar Mass')\n",
    "cb = plt.colorbar()\n",
    "cb.ax.set_title('M_sun')\n",
    "plt.show()\n",
    "plt.imshow(halo_box.halo_sfr[...,0],cmap=cm.Blues,norm=LogNorm(vmin=1e-11,vmax=1e-8))\n",
    "plt.title('SFR')\n",
    "cb = plt.colorbar()\n",
    "cb.ax.set_title('M_sun yr-1')\n",
    "plt.show()"
   ]
  },
  {
   "cell_type": "markdown",
   "metadata": {},
   "source": [
    "We expect halo mass, stellar mass and SFR to follow a very similar distribution, as all are dependent on the density field"
   ]
  },
  {
   "cell_type": "markdown",
   "metadata": {},
   "source": [
    "#### These grids can be used instead of the density field when calculating HII maps or spin temperatures"
   ]
  },
  {
   "cell_type": "code",
   "execution_count": null,
   "metadata": {},
   "outputs": [],
   "source": [
    "#passing a halo box into this function (with the USE_HALO_FIELD flag) will\n",
    "#use the gridded halos instead of the density field to determine ionizing radiation\n",
    "ionbox = p21c.ionize_box(halobox=halo_box)\n",
    "\n",
    "#now we run without halos to compare\n",
    "flag_options_nosampler = deepcopy(flag_options)\n",
    "flag_options_nosampler.update(USE_HALO_FIELD=False,HALO_STOCHASTICITY=False)\n",
    "ionbox_nosampler = p21c.ionize_box(redshift=redshift,cosmo_params=cosmo_params,user_params=user_params,astro_params=astro_params,flag_options=flag_options_nosampler)\n",
    "\n",
    "plt.figure()\n",
    "plt.imshow(ionbox.xH_box[...,0],cmap=cm.viridis,norm=Normalize(vmin=0,vmax=1))\n",
    "plt.title('xH Fraction Sampler')\n",
    "plt.colorbar()\n",
    "plt.show()\n",
    "plt.imshow(ionbox_nosampler.xH_box[...,0],cmap=cm.viridis,norm=Normalize(vmin=0,vmax=1))\n",
    "plt.title('xH Fraction Default')\n",
    "plt.colorbar()\n",
    "plt.show()"
   ]
  },
  {
   "cell_type": "markdown",
   "metadata": {},
   "source": [
    "The ionisation field is much noisier on small scales due to much larger variation in stellar mass. but follows the same distribution"
   ]
  },
  {
   "cell_type": "markdown",
   "metadata": {},
   "source": [
    "#### Full lightcone run with / without halo sampling"
   ]
  },
  {
   "cell_type": "code",
   "execution_count": null,
   "metadata": {},
   "outputs": [],
   "source": [
    "flag_options.update(USE_TS_FLUCT=True)\n",
    "lightcone_quantities = [\"density\",'xH_box','brightness_temp']\n",
    "lc = p21c.run_lightcone(\n",
    "        redshift = redshift,\n",
    "        max_redshift = 30,\n",
    "        flag_options = flag_options,\n",
    "        astro_params = astro_params,\n",
    "        user_params = user_params,\n",
    "        cosmo_params = cosmo_params,\n",
    "        lightcone_quantities=lightcone_quantities,\n",
    "        global_quantities=lightcone_quantities,\n",
    "        random_seed = random_seed,\n",
    ")\n",
    "\n",
    "flag_options_nosampler.update(USE_TS_FLUCT=True)\n",
    "lc_nosampler = p21c.run_lightcone(\n",
    "        redshift = redshift,\n",
    "        max_redshift = 30,\n",
    "        flag_options = flag_options_nosampler,\n",
    "        astro_params = astro_params,\n",
    "        user_params = user_params,\n",
    "        cosmo_params = cosmo_params,\n",
    "        lightcone_quantities=lightcone_quantities,\n",
    "        global_quantities=lightcone_quantities,\n",
    "        random_seed = random_seed,\n",
    ")"
   ]
  },
  {
   "cell_type": "code",
   "execution_count": null,
   "metadata": {},
   "outputs": [],
   "source": [
    "fig, ax = plt.subplots(1,1,\n",
    "            figsize=(\n",
    "                plot_shape[0] * 0.03 + 0.5,\n",
    "                plot_shape[1] * 0.03 + 1.0,\n",
    "            ),\n",
    "        )\n",
    "\n",
    "plt.show()\n",
    "p21c.plotting.lightcone_sliceplot(lc,kind='brightness_temp',zticks='redshift',aspect='equal',fig=fig\n",
    "                                                ,log=False,vertical=False,cbar_horizontal=False\n",
    "                                                ,z_max=12,slice_index=24)\n",
    "plt.title('SAMPLER')\n",
    "plt.show()\n",
    "p21c.plotting.lightcone_sliceplot(lc,kind='xH_box',zticks='redshift',aspect='equal',fig=fig\n",
    "                                                ,log=False,vertical=False,cbar_horizontal=False\n",
    "                                                ,z_max=12,slice_index=24)\n",
    "\n",
    "plt.show()\n",
    "p21c.plotting.lightcone_sliceplot(lc_nosampler,kind='brightness_temp',zticks='redshift',aspect='equal',fig=fig\n",
    "                                                ,log=False,vertical=False,cbar_horizontal=False\n",
    "                                                ,z_max=12,slice_index=24)\n",
    "plt.title('DEFAULT')\n",
    "plt.show()\n",
    "p21c.plotting.lightcone_sliceplot(lc_nosampler,kind='xH_box',zticks='redshift',aspect='equal',fig=fig\n",
    "                                                ,log=False,vertical=False,cbar_horizontal=False\n",
    "                                                ,z_max=12,slice_index=24)\n",
    "plt.show()"
   ]
  },
  {
   "cell_type": "markdown",
   "metadata": {},
   "source": [
    "#### Examining the global brightness temperature and neutral fraction\n",
    "The global results should be very similar"
   ]
  },
  {
   "cell_type": "code",
   "execution_count": null,
   "metadata": {},
   "outputs": [],
   "source": [
    "plt.figure()\n",
    "plt.plot(lc.node_redshifts,lc.global_brightness_temp)\n",
    "plt.plot(lc_nosampler.node_redshifts,lc_nosampler.global_brightness_temp)\n",
    "plt.xlabel(\"redshift\")\n",
    "plt.xlabel(\"dTb (mK)\")\n",
    "plt.show()\n",
    "\n",
    "plt.figure()\n",
    "plt.plot(lc.node_redshifts,lc.global_xH)\n",
    "plt.plot(lc_nosampler.node_redshifts,lc_nosampler.global_xH)\n",
    "plt.xlabel(\"redshift\")\n",
    "plt.xlabel(\"Neutral Fraction\")\n",
    "plt.show()"
   ]
  },
  {
   "cell_type": "markdown",
   "metadata": {},
   "source": [
    "#### Examining the 1D power spectra around z=12\n",
    "We should see similar results with an increase in small-scale power due to the shot-noise induced by halo fluctuations"
   ]
  },
  {
   "cell_type": "code",
   "execution_count": null,
   "metadata": {},
   "outputs": [],
   "source": [
    "z_plot = 12\n",
    "z_idx = np.argmin(np.fabs(lc.lightcone_redshifts-z_plot))\n",
    "box_len = lc.user_params.BOX_LEN\n",
    "grid_dim = lc.user_params.HII_DIM\n",
    "\n",
    "#select the chunk we want to make the power spectrum from\n",
    "lc_chunk = lc.brightness_temp[...,z_idx-int(grid_dim/2):z_idx+int(grid_dim/2)]\n",
    "chunk_dim = np.array(lc_chunk.shape) * box_len / grid_dim \n",
    "p,k = get_power(lc_chunk,boxlength=chunk_dim)\n",
    "\n",
    "lc_chunk_nosampler = lc_nosampler.brightness_temp[...,z_idx-int(grid_dim/2):z_idx+int(grid_dim/2)]\n",
    "p2,k2 = get_power(lc_chunk_nosampler,boxlength=chunk_dim)\n",
    "\n",
    "plt.figure()\n",
    "plt.loglog(k,p*k**3/(np.pi*2))\n",
    "plt.loglog(k2,p2*k2**3/(np.pi*2))\n",
    "plt.xlabel('k')\n",
    "plt.ylabel('Delta_21 (mK^2)')\n",
    "plt.show()"
   ]
  }
 ],
 "metadata": {
  "kernelspec": {
   "display_name": "Python (21cmfast)",
   "language": "python",
   "name": "21cmfast"
  },
  "language_info": {
   "codemirror_mode": {
    "name": "ipython",
    "version": 3
   },
   "file_extension": ".py",
   "mimetype": "text/x-python",
   "name": "python",
   "nbconvert_exporter": "python",
   "pygments_lexer": "ipython3",
   "version": "3.9.16"
  }
 },
 "nbformat": 4,
 "nbformat_minor": 4
}
